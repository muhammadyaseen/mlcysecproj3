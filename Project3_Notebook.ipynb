{
 "cells": [
  {
   "cell_type": "markdown",
   "metadata": {
    "colab_type": "text",
    "id": "4NzyqehHjUlG"
   },
   "source": [
    "# ML in Cybersecurity: Project III\n",
    "\n",
    "## Team\n",
    "  * **Team name**:  MMM\n",
    "  * **Members**:  Maria Sargsyan (2576831,msargsyan@mpi-inf.mpg.de), Muneeb Aadil (2581794, maadil@mpi-inf.mpg.de), Muhammad Yaseen (2577833, myaseen@mpi-inf.mpg.de).\n",
    "  * **Tutor**: *???*\n",
    "\n",
    "\n",
    "## Logistics\n",
    "  * **Due date**: 12th December 2019, 13:59:59 \n",
    "  * Email the completed notebook to mlcysec_ws1920_staff@lists.cispa.saarland \n",
    "  * Complete this in the previously established **teams of 3**\n",
    "  * Feel free to use the course [mailing list](https://lists.cispa.saarland/listinfo/mlcysec_ws1920_stud) to discuss.\n",
    "  \n",
    "## Timeline\n",
    "  * 28-Nov-2019: Project 3 hand-out\n",
    "  * **12-Dec-2019** (13:59:59): Email completed notebook to mlcysec_ws1920_staff@lists.cispa.saarland\n",
    "\n",
    "  * 19-Dec-2019: Project 3 discussion and summary\n",
    "  \n",
    "  \n",
    "## About this Project\n",
    "In this project, we dive into the vulnerabilities of machine learning models and the difficulties of defending against them. To this end, we require you to implement an evasion attack (craft adversarial examples) yourselves, and defend your own model.   \n",
    "\n",
    "\n",
    "## A Note on Grading\n",
    "The total number of points in this project is 100. We further provide the number of points achievable with each excercise. You should take particular care to document and visualize your results, though.\n",
    "\n",
    "\n",
    " \n",
    "## Filling-in the Notebook\n",
    "You'll be submitting this very notebook that is filled-in with (all!) your code and analysis. Make sure you submit one that has been previously executed in-order. (So that results/graphs are already visible upon opening it). \n",
    "\n",
    "The notebook you submit **should compile** (or should be self-contained and sufficiently commented). Check tutorial 1 on how to set up the Python3 environment.\n",
    "\n",
    "It is extremely important that you **do not** re-order the existing sections. Apart from that, the code blocks that you need to fill-in are given by:\n",
    "```\n",
    "#\n",
    "#\n",
    "# ------- Your Code -------\n",
    "#\n",
    "#\n",
    "```\n",
    "Feel free to break this into multiple-cells. It's even better if you interleave explanations and code-blocks so that the entire notebook forms a readable \"story\".\n",
    "\n",
    "\n",
    "## Code of Honor\n",
    "We encourage discussing ideas and concepts with other students to help you learn and better understand the course content. However, the work you submit and present **must be original** and demonstrate your effort in solving the presented problems. **We will not tolerate** blatantly using existing solutions (such as from the internet), improper collaboration (e.g., sharing code or experimental data between groups) and plagiarism. If the honor code is not met, no points will be awarded.\n",
    "\n",
    " \n",
    " ## Versions\n",
    "  * v1.0: Initial notebook\n",
    "  * v1.1: Clarifications at 1.1.2, 1.2.2, 2.1\n",
    " \n",
    "  ---"
   ]
  },
  {
   "cell_type": "code",
   "execution_count": 1,
   "metadata": {},
   "outputs": [],
   "source": [
    "import time \n",
    " \n",
    "import numpy as np \n",
    "import matplotlib.pyplot as plt \n",
    "\n",
    "import json \n",
    "import time \n",
    "import pickle \n",
    "import sys \n",
    "import csv \n",
    "import os \n",
    "import os.path as osp \n",
    "import shutil \n",
    "\n",
    "import pandas as pd\n",
    "\n",
    "from IPython.display import display, HTML\n",
    " \n",
    "%matplotlib inline \n",
    "plt.rcParams['figure.figsize'] = (10.0, 8.0) # set default size of plots \n",
    "plt.rcParams['image.interpolation'] = 'nearest' \n",
    "plt.rcParams['image.cmap'] = 'gray' \n",
    " \n",
    "# for auto-reloading external modules \n",
    "# see http://stackoverflow.com/questions/1907993/autoreload-of-modules-in-ipython \n",
    "%load_ext autoreload\n",
    "%autoreload 2\n",
    "\n",
    "# Some suggestions of our libraries that might be helpful for this project\n",
    "from collections import Counter          # an even easier way to count\n",
    "from multiprocessing import Pool         # for multiprocessing\n",
    "from tqdm import tqdm                    # fancy progress bars\n",
    "\n",
    "# Load other libraries here.\n",
    "# Keep it minimal! We should be easily able to reproduce your code.\n",
    "# We only support sklearn and pytorch.\n",
    "import torchvision.datasets as datasets\n",
    "import torchvision.transforms as transforms\n",
    "import torch.utils.data as data\n",
    "from torch.utils.data.sampler import SubsetRandomSampler\n",
    "import torchvision\n",
    "\n",
    "# We preload pytorch as an example\n",
    "import torch\n",
    "import torch.nn as nn\n",
    "import torch.nn.functional as F\n",
    "import torch.optim as optim\n",
    "from torch.utils.data import DataLoader, Dataset, TensorDataset\n",
    "\n",
    "\n",
    "# Debugging\n",
    "import pdb"
   ]
  },
  {
   "cell_type": "code",
   "execution_count": 2,
   "metadata": {},
   "outputs": [],
   "source": [
    "compute_mode = 'cpu'\n",
    "\n",
    "if compute_mode == 'cpu':\n",
    "    device = torch.device('cpu')\n",
    "elif compute_mode == 'gpu':\n",
    "    # If you are using pytorch on the GPU cluster, you have to manually specify which GPU device to use\n",
    "    # It is extremely important that you *do not* spawn multi-GPU jobs.\n",
    "    os.environ[\"CUDA_VISIBLE_DEVICES\"] = '0'    # Set device ID here\n",
    "    device = torch.device('cuda')\n",
    "else:\n",
    "    raise ValueError('Unrecognized compute mode')"
   ]
  },
  {
   "cell_type": "markdown",
   "metadata": {
    "colab_type": "text",
    "id": "nxi-lLD0mKHD"
   },
   "source": [
    "#### Helpers\n",
    "\n",
    "In case you choose to have some methods you plan to reuse during the notebook, define them here. This will avoid clutter and keep rest of the notebook succinct."
   ]
  },
  {
   "cell_type": "code",
   "execution_count": 3,
   "metadata": {},
   "outputs": [],
   "source": [
    "def identity_func(foo):\n",
    "    return foo\n",
    "\n",
    "def data_to_arrays(data):\n",
    "    out1 = []\n",
    "    out2 = []\n",
    "    for d in data:\n",
    "        x, y = d\n",
    "        out1.append(x)\n",
    "        out2.append(y)\n",
    "    out1 = torch.cat(out1, dim=0)\n",
    "    out2 = torch.IntTensor(out2)\n",
    "    return out1, out2\n",
    "\n",
    "class IncorrectPrediction:\n",
    "    def __init__(self, true_label, predicted_label, image, prob_dist):\n",
    "        self.true_label = true_label\n",
    "        self.predicted_label = predicted_label\n",
    "        self.image = image\n",
    "        self.prob_dist = prob_dist\n",
    "        \n",
    "def get_accuracy_from_predictions(actual, predictions, verbose=False):\n",
    "\n",
    "    assert actual.size() == predictions.size()\n",
    "    incorrect = torch.sum(predictions != actual).item()\n",
    "    total = float(actual.size()[0])\n",
    "    acc = 1 - (incorrect / total)\n",
    "    if verbose: \n",
    "      print('{0} predictions not correct from a total of {1}'.format(incorrect, total))\n",
    "      print('Accuracy: {0}%'.format(acc*100))\n",
    "    \n",
    "    return acc"
   ]
  },
  {
   "cell_type": "markdown",
   "metadata": {
    "colab_type": "text",
    "id": "n1pcmKkyjT7y"
   },
   "source": [
    "# 1. Attacking an ML-model\n",
    "\n",
    "In this section, we implement an attack ourselves. We then leverage the Foolbox library to craft adversarial examples. First, however, you need a model you can attack. Feel free to choose the DNN/ConvNN from project 1.\n",
    "\n",
    "Hint: you might want to save the trained model to save time later."
   ]
  },
  {
   "cell_type": "markdown",
   "metadata": {
    "colab_type": "text",
    "id": "QaJv_d_Dp7OM"
   },
   "source": [
    "### 1.1.1: Setting up the model (5 Points)\n",
    "\n",
    "Re-use the model from project 1 here and train it until it achieves reasonable accuracy (>92%)."
   ]
  },
  {
   "cell_type": "markdown",
   "metadata": {},
   "source": [
    "#### 1.1.1.1: Loading MNIST Data\n",
    "\n",
    "Load and process MNIST data"
   ]
  },
  {
   "cell_type": "code",
   "execution_count": 3,
   "metadata": {},
   "outputs": [],
   "source": [
    "# Loading MNIST data\n",
    "BATCH_SIZE = 4\n",
    "VALIDATION_FRACTION = 0.1\n",
    "EPOCHS = 2\n",
    "CLASSES = [str(i) for i in range(0,10)]\n",
    "\n",
    "tsfms = transforms.Compose([\n",
    "    transforms.ToTensor(),  # data loader returns a PIL image, we need to transform it to a Tensor object\n",
    "])\n",
    "\n",
    "# train and test datasets, transformed to a tensor\n",
    "mnist_train_data = torchvision.datasets.MNIST(root=\"./mnist-data/\", download=True, train=True, transform=tsfms)\n",
    "mnist_val_data = torchvision.datasets.MNIST(root=\"./mnist-data/\", download=True, train=True, transform=tsfms)\n",
    "mnist_test_data = torchvision.datasets.MNIST(root=\"./mnist-data/\", download=True, train=False, transform=tsfms)\n",
    "\n",
    "# we need to create a disjoint validation set from within the training set\n",
    "# following the approach taken in this link\n",
    "# https://gist.github.com/kevinzakka/d33bf8d6c7f06a9d8c76d97a7879f5cb\n",
    "\n",
    "num_training = len(mnist_train_data)\n",
    "all_indices = list(range(num_training)) # this gives us indices over the whole training set\n",
    "split = int(np.floor( VALIDATION_FRACTION * num_training))\n",
    "# split indices into disjoint sets\n",
    "train_indices, val_indices = all_indices[split:], all_indices[:split]\n",
    "\n",
    "# now we have the indices for train and val sets, we create a pytorch \n",
    "# custom sampler over both datasets\n",
    "train_sampler = SubsetRandomSampler(train_indices)\n",
    "val_sampler = SubsetRandomSampler(val_indices)\n",
    "\n",
    "# represents a data loader, takes care of random batching and indexing etc.\n",
    "mnist_train_data_loader = torch.utils.data.DataLoader(mnist_train_data, batch_size=BATCH_SIZE, sampler=train_sampler)\n",
    "mnist_val_data_loader   = torch.utils.data.DataLoader(mnist_val_data, batch_size=BATCH_SIZE, sampler=val_sampler)\n",
    "mnist_test_data_loader  = torch.utils.data.DataLoader(mnist_test_data, batch_size=1, shuffle=False)"
   ]
  },
  {
   "cell_type": "markdown",
   "metadata": {},
   "source": [
    "#### 1.1.1.2: Defining the Model\n",
    "\n",
    "Define the CNN Model"
   ]
  },
  {
   "cell_type": "code",
   "execution_count": 4,
   "metadata": {},
   "outputs": [],
   "source": [
    "# Model represented as class\n",
    "\n",
    "class CNNModel(nn.Module):\n",
    "\n",
    "    def __init__(self):\n",
    "    \n",
    "        super(CNNModel, self).__init__()\n",
    "\n",
    "        ## formula to make sure params work out\n",
    "        ## W_out = (W_in - F)/S + 1\n",
    "        ## from http://cs231n.github.io/convolutional-networks/\n",
    "\n",
    "        ## we will have 2 conv layers\n",
    "\n",
    "        # in_channel is 1 bcz MNIST is a BW dataset\n",
    "        # from 1 input, we create 6 output feature maps, using 5x5 kernels\n",
    "        # input is 28x28, output will be 24x24\n",
    "        self.conv1 = nn.Conv2d(in_channels=1, out_channels=6, kernel_size=5)\n",
    "\n",
    "        # max pool over the 2x2 region.\n",
    "        # input is 24x24, output will be 12x12 \n",
    "        self.pool1 = nn.MaxPool2d(kernel_size=2, stride=2)\n",
    "\n",
    "        # after max pool, out spatial dim is reduced, but num channels coming from \n",
    "        # prev conv1 is still 6. We create 16 feature maps, again using 5x5 kernels\n",
    "        # input is 12x12, output will be 8x8\n",
    "        self.conv2 = nn.Conv2d(in_channels=6, out_channels=16, kernel_size=5)\n",
    "\n",
    "        # max pool over the 2x2 region. \n",
    "        # input is 8x8, output will be 4x4\n",
    "        self.pool2 = nn.MaxPool2d(kernel_size=2, stride=2)\n",
    "\n",
    "        ## followed by 2 FC layers, y = Wx + b\n",
    "        # we take features computer after the pool2 step.\n",
    "        # we have 16 maps, each of size 4x4. We will flatten them\n",
    "        self.fc1 = nn.Linear(in_features=16*4*4, out_features=120)\n",
    "        self.fc2 = nn.Linear(in_features=120, out_features=84)\n",
    "\n",
    "        ## and a last FC layer for predictions\n",
    "        self.fc3 = nn.Linear(in_features=84, out_features=10)\n",
    "\n",
    "    # we define the fwd pass, backward pass is automatically defined \n",
    "    # by PyTorch thru lineage\n",
    "\n",
    "    def forward(self, x):\n",
    "\n",
    "        x = self.pool1(F.relu(self.conv1(x)))\n",
    "        x = self.pool2(F.relu(self.conv2(x)))\n",
    "\n",
    "        # flatten\n",
    "        x = x.view(-1, 16*4*4)\n",
    "        x = F.relu(self.fc1(x))\n",
    "        x = F.relu(self.fc2(x))\n",
    "        #x = F.tanh(self.fc1(x))\n",
    "        #x = F.tanh(self.fc2(x))\n",
    "        x = self.fc3(x)\n",
    "\n",
    "        return x"
   ]
  },
  {
   "cell_type": "code",
   "execution_count": 7,
   "metadata": {},
   "outputs": [],
   "source": [
    "# Function to test the model on a give (sub)set.\n",
    "\n",
    "def test_model(cnn_model, is_test_set=False, verbose=False):\n",
    "\n",
    "    class_preds = []\n",
    "    ground_truth = []\n",
    "    incorrect_predictions = []\n",
    "    TEST = is_test_set\n",
    "\n",
    "\n",
    "    with torch.no_grad():\n",
    "        for data in mnist_test_data_loader if TEST else mnist_val_data_loader:\n",
    "            images, labels = data\n",
    "\n",
    "            # get (unnormalized) predictions\n",
    "            predictions = cnn_model(images)\n",
    "            # normalize to get probability distribution\n",
    "            batch_class_probabilities = [F.softmax(el, dim=0) for el in predictions]\n",
    "            # get index of max value which corresponds to the predicted label\n",
    "            # we discard actual values because they are of no use as we use \n",
    "            # probability dist\n",
    "            _, predicted_labels = torch.max(predictions, 1)\n",
    "\n",
    "            # we save some of the incorrect predictions to view them later for \n",
    "            # insights and reasoning\n",
    "            for i,(t,p) in enumerate(zip(labels.tolist(),predicted_labels.tolist())):\n",
    "                if t != p:\n",
    "                    incorrect_predictions.append(IncorrectPrediction(t,p,images[i],batch_class_probabilities[i]))\n",
    "\n",
    "            ground_truth.append(labels)\n",
    "            #class_probs.append(batch_class_probabilities)\n",
    "            class_preds.append(predicted_labels)\n",
    "\n",
    "    # concat predictions from all batches to get a single vector\n",
    "    test_preds = torch.cat(class_preds)\n",
    "    # actual labels\n",
    "    ground_truth = torch.cat(ground_truth)\n",
    "    # calculate accuracy in percentage given predictions and ground truth\n",
    "    accuracy = get_accuracy_from_predictions(ground_truth, test_preds, verbose=verbose)\n",
    "\n",
    "    return accuracy, incorrect_predictions"
   ]
  },
  {
   "cell_type": "markdown",
   "metadata": {},
   "source": [
    "#### 1.1.1.3: Defining the Loss function, Optimization, and Training Loop"
   ]
  },
  {
   "cell_type": "code",
   "execution_count": 8,
   "metadata": {
    "scrolled": true
   },
   "outputs": [
    {
     "name": "stderr",
     "output_type": "stream",
     "text": [
      "9it [00:00, 78.75it/s]"
     ]
    },
    {
     "name": "stdout",
     "output_type": "stream",
     "text": [
      "Epoch [1 / 2]\n"
     ]
    },
    {
     "name": "stderr",
     "output_type": "stream",
     "text": [
      "1021it [00:08, 24.52it/s]"
     ]
    },
    {
     "name": "stdout",
     "output_type": "stream",
     "text": [
      "Loss: 2.294882250070572 \t Validation Accuracy: 25.4%\n"
     ]
    },
    {
     "name": "stderr",
     "output_type": "stream",
     "text": [
      "2026it [00:19, 16.06it/s] "
     ]
    },
    {
     "name": "stdout",
     "output_type": "stream",
     "text": [
      "Loss: 1.5563014516271652 \t Validation Accuracy: 81.96666666666667%\n"
     ]
    },
    {
     "name": "stderr",
     "output_type": "stream",
     "text": [
      "3014it [00:32, 11.55it/s] "
     ]
    },
    {
     "name": "stdout",
     "output_type": "stream",
     "text": [
      "Loss: 0.42080974123906345 \t Validation Accuracy: 91.96666666666667%\n"
     ]
    },
    {
     "name": "stderr",
     "output_type": "stream",
     "text": [
      "4023it [00:42, 22.96it/s] "
     ]
    },
    {
     "name": "stdout",
     "output_type": "stream",
     "text": [
      "Loss: 0.26908470528037287 \t Validation Accuracy: 93.63333333333334%\n"
     ]
    },
    {
     "name": "stderr",
     "output_type": "stream",
     "text": [
      "5019it [00:52, 19.40it/s] "
     ]
    },
    {
     "name": "stdout",
     "output_type": "stream",
     "text": [
      "Loss: 0.21000112865847767 \t Validation Accuracy: 95.39999999999999%\n"
     ]
    },
    {
     "name": "stderr",
     "output_type": "stream",
     "text": [
      "6020it [01:02, 25.43it/s] "
     ]
    },
    {
     "name": "stdout",
     "output_type": "stream",
     "text": [
      "Loss: 0.15966528247332462 \t Validation Accuracy: 96.03333333333333%\n"
     ]
    },
    {
     "name": "stderr",
     "output_type": "stream",
     "text": [
      "7013it [01:12, 16.85it/s] "
     ]
    },
    {
     "name": "stdout",
     "output_type": "stream",
     "text": [
      "Loss: 0.17007265138000366 \t Validation Accuracy: 94.71666666666667%\n"
     ]
    },
    {
     "name": "stderr",
     "output_type": "stream",
     "text": [
      "8007it [01:19, 36.15it/s] "
     ]
    },
    {
     "name": "stdout",
     "output_type": "stream",
     "text": [
      "Loss: 0.1499237997391465 \t Validation Accuracy: 96.0%\n"
     ]
    },
    {
     "name": "stderr",
     "output_type": "stream",
     "text": [
      "9013it [01:28, 26.35it/s] "
     ]
    },
    {
     "name": "stdout",
     "output_type": "stream",
     "text": [
      "Loss: 0.14298264545518033 \t Validation Accuracy: 95.89999999999999%\n"
     ]
    },
    {
     "name": "stderr",
     "output_type": "stream",
     "text": [
      "10026it [01:37, 23.96it/s]"
     ]
    },
    {
     "name": "stdout",
     "output_type": "stream",
     "text": [
      "Loss: 0.1366205158978919 \t Validation Accuracy: 95.68333333333334%\n"
     ]
    },
    {
     "name": "stderr",
     "output_type": "stream",
     "text": [
      "11024it [01:47, 26.58it/s] "
     ]
    },
    {
     "name": "stdout",
     "output_type": "stream",
     "text": [
      "Loss: 0.11142310378432739 \t Validation Accuracy: 97.13333333333334%\n"
     ]
    },
    {
     "name": "stderr",
     "output_type": "stream",
     "text": [
      "12025it [01:56, 29.00it/s] "
     ]
    },
    {
     "name": "stdout",
     "output_type": "stream",
     "text": [
      "Loss: 0.11915542259835638 \t Validation Accuracy: 97.23333333333333%\n"
     ]
    },
    {
     "name": "stderr",
     "output_type": "stream",
     "text": [
      "13024it [02:10, 15.71it/s] "
     ]
    },
    {
     "name": "stdout",
     "output_type": "stream",
     "text": [
      "Loss: 0.09695178625350309 \t Validation Accuracy: 97.43333333333334%\n"
     ]
    },
    {
     "name": "stderr",
     "output_type": "stream",
     "text": [
      "13500it [02:13, 101.23it/s]\n",
      "25it [00:00, 249.01it/s]"
     ]
    },
    {
     "name": "stdout",
     "output_type": "stream",
     "text": [
      "Epoch [2 / 2]\n"
     ]
    },
    {
     "name": "stderr",
     "output_type": "stream",
     "text": [
      "1036it [00:07, 19.01it/s]"
     ]
    },
    {
     "name": "stdout",
     "output_type": "stream",
     "text": [
      "Loss: 0.14563944652492136 \t Validation Accuracy: 96.65%\n"
     ]
    },
    {
     "name": "stderr",
     "output_type": "stream",
     "text": [
      "2015it [00:15, 37.61it/s] "
     ]
    },
    {
     "name": "stdout",
     "output_type": "stream",
     "text": [
      "Loss: 0.08006627682904946 \t Validation Accuracy: 97.5%\n"
     ]
    },
    {
     "name": "stderr",
     "output_type": "stream",
     "text": [
      "3012it [00:26, 13.14it/s] "
     ]
    },
    {
     "name": "stdout",
     "output_type": "stream",
     "text": [
      "Loss: 0.0832274521874424 \t Validation Accuracy: 97.15%\n"
     ]
    },
    {
     "name": "stderr",
     "output_type": "stream",
     "text": [
      "4024it [00:37, 19.94it/s] "
     ]
    },
    {
     "name": "stdout",
     "output_type": "stream",
     "text": [
      "Loss: 0.0844800882551899 \t Validation Accuracy: 97.85000000000001%\n"
     ]
    },
    {
     "name": "stderr",
     "output_type": "stream",
     "text": [
      "5002it [00:50, 11.37it/s] "
     ]
    },
    {
     "name": "stdout",
     "output_type": "stream",
     "text": [
      "Loss: 0.08467935696671157 \t Validation Accuracy: 96.33333333333334%\n"
     ]
    },
    {
     "name": "stderr",
     "output_type": "stream",
     "text": [
      "6032it [01:01, 28.82it/s] "
     ]
    },
    {
     "name": "stdout",
     "output_type": "stream",
     "text": [
      "Loss: 0.07876643193680957 \t Validation Accuracy: 97.66666666666667%\n"
     ]
    },
    {
     "name": "stderr",
     "output_type": "stream",
     "text": [
      "7020it [01:09, 28.21it/s] "
     ]
    },
    {
     "name": "stdout",
     "output_type": "stream",
     "text": [
      "Loss: 0.06785180580786891 \t Validation Accuracy: 97.86666666666667%\n"
     ]
    },
    {
     "name": "stderr",
     "output_type": "stream",
     "text": [
      "8018it [01:19, 25.90it/s] "
     ]
    },
    {
     "name": "stdout",
     "output_type": "stream",
     "text": [
      "Loss: 0.07035395660849736 \t Validation Accuracy: 97.66666666666667%\n"
     ]
    },
    {
     "name": "stderr",
     "output_type": "stream",
     "text": [
      "9001it [01:28, 18.94it/s] "
     ]
    },
    {
     "name": "stdout",
     "output_type": "stream",
     "text": [
      "Loss: 0.07824270795823213 \t Validation Accuracy: 97.11666666666666%\n"
     ]
    },
    {
     "name": "stderr",
     "output_type": "stream",
     "text": [
      "10033it [01:39, 33.54it/s]"
     ]
    },
    {
     "name": "stdout",
     "output_type": "stream",
     "text": [
      "Loss: 0.08024027081369287 \t Validation Accuracy: 97.65%\n"
     ]
    },
    {
     "name": "stderr",
     "output_type": "stream",
     "text": [
      "10627it [01:43, 188.31it/s]"
     ]
    },
    {
     "ename": "KeyboardInterrupt",
     "evalue": "",
     "output_type": "error",
     "traceback": [
      "\u001b[0;31m---------------------------------------------------------------------------\u001b[0m",
      "\u001b[0;31mKeyboardInterrupt\u001b[0m                         Traceback (most recent call last)",
      "\u001b[0;32m<ipython-input-8-b289f1d9daac>\u001b[0m in \u001b[0;36m<module>\u001b[0;34m\u001b[0m\n\u001b[1;32m     23\u001b[0m         \u001b[0moutputs\u001b[0m \u001b[0;34m=\u001b[0m \u001b[0mcnn_model\u001b[0m\u001b[0;34m(\u001b[0m\u001b[0minputs\u001b[0m\u001b[0;34m)\u001b[0m\u001b[0;34m\u001b[0m\u001b[0;34m\u001b[0m\u001b[0m\n\u001b[1;32m     24\u001b[0m         \u001b[0mloss\u001b[0m \u001b[0;34m=\u001b[0m \u001b[0mloss_fn\u001b[0m\u001b[0;34m(\u001b[0m\u001b[0moutputs\u001b[0m\u001b[0;34m,\u001b[0m \u001b[0mlabels\u001b[0m\u001b[0;34m)\u001b[0m\u001b[0;34m\u001b[0m\u001b[0;34m\u001b[0m\u001b[0m\n\u001b[0;32m---> 25\u001b[0;31m         \u001b[0mloss\u001b[0m\u001b[0;34m.\u001b[0m\u001b[0mbackward\u001b[0m\u001b[0;34m(\u001b[0m\u001b[0;34m)\u001b[0m\u001b[0;34m\u001b[0m\u001b[0;34m\u001b[0m\u001b[0m\n\u001b[0m\u001b[1;32m     26\u001b[0m         \u001b[0moptimizer\u001b[0m\u001b[0;34m.\u001b[0m\u001b[0mstep\u001b[0m\u001b[0;34m(\u001b[0m\u001b[0;34m)\u001b[0m\u001b[0;34m\u001b[0m\u001b[0;34m\u001b[0m\u001b[0m\n\u001b[1;32m     27\u001b[0m \u001b[0;34m\u001b[0m\u001b[0m\n",
      "\u001b[0;32m~/anaconda3/lib/python3.7/site-packages/torch/tensor.py\u001b[0m in \u001b[0;36mbackward\u001b[0;34m(self, gradient, retain_graph, create_graph)\u001b[0m\n\u001b[1;32m    164\u001b[0m                 \u001b[0mproducts\u001b[0m\u001b[0;34m.\u001b[0m \u001b[0mDefaults\u001b[0m \u001b[0mto\u001b[0m\u001b[0;31m \u001b[0m\u001b[0;31m`\u001b[0m\u001b[0;31m`\u001b[0m\u001b[0;32mFalse\u001b[0m\u001b[0;31m`\u001b[0m\u001b[0;31m`\u001b[0m\u001b[0;34m.\u001b[0m\u001b[0;34m\u001b[0m\u001b[0;34m\u001b[0m\u001b[0m\n\u001b[1;32m    165\u001b[0m         \"\"\"\n\u001b[0;32m--> 166\u001b[0;31m         \u001b[0mtorch\u001b[0m\u001b[0;34m.\u001b[0m\u001b[0mautograd\u001b[0m\u001b[0;34m.\u001b[0m\u001b[0mbackward\u001b[0m\u001b[0;34m(\u001b[0m\u001b[0mself\u001b[0m\u001b[0;34m,\u001b[0m \u001b[0mgradient\u001b[0m\u001b[0;34m,\u001b[0m \u001b[0mretain_graph\u001b[0m\u001b[0;34m,\u001b[0m \u001b[0mcreate_graph\u001b[0m\u001b[0;34m)\u001b[0m\u001b[0;34m\u001b[0m\u001b[0;34m\u001b[0m\u001b[0m\n\u001b[0m\u001b[1;32m    167\u001b[0m \u001b[0;34m\u001b[0m\u001b[0m\n\u001b[1;32m    168\u001b[0m     \u001b[0;32mdef\u001b[0m \u001b[0mregister_hook\u001b[0m\u001b[0;34m(\u001b[0m\u001b[0mself\u001b[0m\u001b[0;34m,\u001b[0m \u001b[0mhook\u001b[0m\u001b[0;34m)\u001b[0m\u001b[0;34m:\u001b[0m\u001b[0;34m\u001b[0m\u001b[0;34m\u001b[0m\u001b[0m\n",
      "\u001b[0;32m~/anaconda3/lib/python3.7/site-packages/torch/autograd/__init__.py\u001b[0m in \u001b[0;36mbackward\u001b[0;34m(tensors, grad_tensors, retain_graph, create_graph, grad_variables)\u001b[0m\n\u001b[1;32m     97\u001b[0m     Variable._execution_engine.run_backward(\n\u001b[1;32m     98\u001b[0m         \u001b[0mtensors\u001b[0m\u001b[0;34m,\u001b[0m \u001b[0mgrad_tensors\u001b[0m\u001b[0;34m,\u001b[0m \u001b[0mretain_graph\u001b[0m\u001b[0;34m,\u001b[0m \u001b[0mcreate_graph\u001b[0m\u001b[0;34m,\u001b[0m\u001b[0;34m\u001b[0m\u001b[0;34m\u001b[0m\u001b[0m\n\u001b[0;32m---> 99\u001b[0;31m         allow_unreachable=True)  # allow_unreachable flag\n\u001b[0m\u001b[1;32m    100\u001b[0m \u001b[0;34m\u001b[0m\u001b[0m\n\u001b[1;32m    101\u001b[0m \u001b[0;34m\u001b[0m\u001b[0m\n",
      "\u001b[0;31mKeyboardInterrupt\u001b[0m: "
     ]
    }
   ],
   "source": [
    "# initialize an instance of CNN model\n",
    "cnn_model = CNNModel()\n",
    "\n",
    "# automatically takes care of one-hot encoding the labels \n",
    "# https://pytorch.org/docs/stable/nn.html#crossentropyloss\n",
    "loss_fn = nn.CrossEntropyLoss() \n",
    "optimizer = optim.SGD(cnn_model.parameters(), lr=0.001, momentum=0.9)\n",
    "\n",
    "running_loss = 0.0\n",
    "val_acc_history = []\n",
    "loss_history = []\n",
    "\n",
    "best_model = None\n",
    "best_val_acc = None\n",
    "# the training loop\n",
    "for epoch in range(EPOCHS):\n",
    "\n",
    "    print(\"Epoch [{} / {}]\".format(epoch+1, EPOCHS))\n",
    "    for i, data in tqdm(enumerate(mnist_train_data_loader, 0)):\n",
    "\n",
    "        inputs, labels = data\n",
    "        optimizer.zero_grad()\n",
    "        outputs = cnn_model(inputs)\n",
    "        loss = loss_fn(outputs, labels)\n",
    "        loss.backward()\n",
    "        optimizer.step()\n",
    "\n",
    "        running_loss += loss.item()\n",
    "\n",
    "        if i % 1000 == 999:\n",
    "            loss_per_1k = running_loss / 1000.0\n",
    "            loss_history.append(loss_per_1k)\n",
    "            \n",
    "            val_acc, _ = test_model(cnn_model, is_test_set=False)\n",
    "            val_acc_history.append(val_acc)\n",
    "            \n",
    "            print(\"Loss: {0} \\t Validation Accuracy: {1}%\".format(str(loss_per_1k), str(val_acc*100)))\n",
    "            \n",
    "            running_loss = 0.0\n",
    "\n",
    "print(\"Finished training\")"
   ]
  },
  {
   "cell_type": "code",
   "execution_count": 14,
   "metadata": {},
   "outputs": [
    {
     "data": {
      "image/png": "[encoded data removed]",
      "text/plain": [
       "<Figure size 1008x504 with 2 Axes>"
      ]
     },
     "metadata": {
      "needs_background": "light"
     },
     "output_type": "display_data"
    },
    {
     "data": {
      "text/plain": [
       "<Figure size 432x288 with 0 Axes>"
      ]
     },
     "metadata": {},
     "output_type": "display_data"
    }
   ],
   "source": [
    "# Visualize trainset performance\n",
    "\n",
    "# plot loss curve per 1000 batches (per 4000 examples if BS = 4)\n",
    "# Note: we didn't plot it against num_epochs because we didn't run many epochs as network \n",
    "# converges after 1 or 2. We thought it would be more interesting to see trends b/w batches.\n",
    "fig, ax = plt.subplots(ncols=2, figsize=(14,7))\n",
    "ax[0].plot(range(len(loss_history)), loss_history,  \n",
    "         color='g', alpha=0.8, marker='.')\n",
    "ax[0].set( \n",
    "    xlabel='Batch (x1000)', \n",
    "    ylabel='Loss', \n",
    "    title='Training progress vs. Loss')\n",
    "\n",
    "\n",
    "# plot val acc per 1000 batches (per 4000 examples if BS = 4)\n",
    "ax[1].plot(range(len(val_acc_history)), val_acc_history,  \n",
    "         color='b', alpha=0.8, marker='.')\n",
    "ax[1].set( \n",
    "    xlabel='Batch (x1000)', \n",
    "    ylabel='Validation Accuracy', \n",
    "    title='Training progress vs. Validation Accuracy')\n",
    "plt.show()\n",
    "plt.tight_layout()"
   ]
  },
  {
   "cell_type": "markdown",
   "metadata": {},
   "source": [
    "#### 1.1.1.4: Evaluation\n",
    "\n",
    "Before attacking the model, we need to make sure that it achieves >95% accuracy on test set.\n"
   ]
  },
  {
   "cell_type": "code",
   "execution_count": 16,
   "metadata": {},
   "outputs": [
    {
     "name": "stdout",
     "output_type": "stream",
     "text": [
      "Accuracy on unseen test data is 97.94%\n"
     ]
    }
   ],
   "source": [
    "accuracy, incorrect_predictions = test_model(cnn_model, is_test_set=True, verbose=False)\n",
    "print('Accuracy on unseen test data is {0}%'.format(accuracy*100))"
   ]
  },
  {
   "cell_type": "code",
   "execution_count": 19,
   "metadata": {},
   "outputs": [],
   "source": [
    "# save the trained model.\n",
    "MODEL_SAVE_PATH = './victim-model.pth'\n",
    "torch.save(cnn_model.cpu().state_dict(), MODEL_SAVE_PATH)"
   ]
  },
  {
   "cell_type": "markdown",
   "metadata": {
    "colab_type": "text",
    "id": "DEQrdyLHsUIu"
   },
   "source": [
    "### 1.1.2: Implementing an attack (15 Points)\n",
    "\n",
    "We now want you to attack the model trained in the previous step. Please implement the FGSM attack mentioned in the lecture. "
   ]
  },
  {
   "cell_type": "code",
   "execution_count": 7,
   "metadata": {
    "colab": {},
    "colab_type": "code",
    "id": "gcVZnUNbRKOz"
   },
   "outputs": [],
   "source": [
    "def FGSM(model, Xtrue, Ytrue, criterion, epsilon=0.01, min_val=0, max_val=1):\n",
    "    \"\"\"\n",
    "    Implements the one step FGSM attack.\n",
    "    \n",
    "    Args:\n",
    "        \n",
    "    Returns:\n",
    "    \"\"\"\n",
    "    # we use this for calculating gradients for image,\n",
    "    Xtrue.requires_grad = True\n",
    "    # which is turned off by default.\n",
    "    \n",
    "    Ypred = model(Xtrue)\n",
    "    _, pred_classes_before = torch.max(Ypred, dim=1)\n",
    "    pred_classes_before = pred_classes_before.data\n",
    "\n",
    "    # TODO: generalize min_val and max_val variables.\n",
    "    loss = criterion(Ypred, Ytrue)\n",
    "    \n",
    "    # calculate gradients\n",
    "    model.zero_grad()\n",
    "    loss.backward()\n",
    "    \n",
    "    # pdb.set_trace()\n",
    "    \n",
    "    with torch.no_grad():\n",
    "        grad_sign = Xtrue.grad.data.sign()\n",
    "        Xperturbed = Xtrue.data + (epsilon * grad_sign)\n",
    "        Xperturbed = torch.clamp(Xperturbed, min=0, max=1)\n",
    "        \n",
    "        Ypred_ = model(Xperturbed)\n",
    "        _, pred_classes_after = torch.max(Ypred_, dim=1)\n",
    "        pred_classes_after = pred_classes_after.data\n",
    "        \n",
    "    return Xperturbed, pred_classes_before, pred_classes_after"
   ]
  },
  {
   "cell_type": "code",
   "execution_count": 9,
   "metadata": {},
   "outputs": [],
   "source": [
    "# load the trained model\n",
    "MODEL_LOAD_PATH = './victim-model.pth'\n",
    "victim_model = CNNModel().to(device)\n",
    "victim_model.load_state_dict(torch.load(MODEL_LOAD_PATH))\n",
    "victim_model.eval()\n",
    "\n",
    "criterion = torch.nn.CrossEntropyLoss().to(device)\n",
    "\n",
    "epsilons = np.linspace(0.01, 0.3, num=10)"
   ]
  },
  {
   "cell_type": "code",
   "execution_count": 9,
   "metadata": {},
   "outputs": [],
   "source": [
    "# for (Xtest, Ytest) in tqdm(mnist_test_data_loader):\n",
    "#     Xtest = Xtest.to(device)\n",
    "#     Ytest = Ytest.to(device)\n",
    "#     Yperturbed, preds_before, preds_after = FGSM(victim_model, Xtest, Ytest, criterion, epsilon=.3)"
   ]
  },
  {
   "cell_type": "markdown",
   "metadata": {
    "colab_type": "text",
    "id": "RNpI3oUoO1wE"
   },
   "source": [
    "### 1.1.3: adversarial sample set (5 Points)\n",
    "\n",
    "Please additionally generate a dataset containing at least 1,000 adversarial examples using FGSM."
   ]
  },
  {
   "cell_type": "code",
   "execution_count": 9,
   "metadata": {
    "colab": {},
    "colab_type": "code",
    "id": "EvYpo9p2O1wF",
    "scrolled": true
   },
   "outputs": [
    {
     "name": "stderr",
     "output_type": "stream",
     "text": [
      " 31%|███       | 3123/10000 [00:15<00:34, 198.53it/s]"
     ]
    }
   ],
   "source": [
    "def create_dataset(model, loader, criterion, device, epsilon=0.2, max_limit=2000):\n",
    "    curr_adv_samples = 0\n",
    "    advXtrue, advXnew, advYtrue, advYnew = [], [], [], []\n",
    "    for (Xtest, Ytest) in tqdm(loader):\n",
    "        Xtest = Xtest.to(device)\n",
    "        Ytest = Ytest.to(device)\n",
    "        Yperturbed, preds_before, preds_after = FGSM(model ,Xtest, Ytest,\n",
    "                                                     criterion, epsilon=epsilon)\n",
    "        if (preds_before == Ytest) and (preds_before != preds_after):\n",
    "            advXtrue.append(Xtest.data)\n",
    "            advXnew.append(Yperturbed)\n",
    "            advYtrue.append(preds_before)\n",
    "            advYnew.append(preds_after)\n",
    "            \n",
    "            curr_adv_samples += 1\n",
    "\n",
    "        if curr_adv_samples == max_limit:\n",
    "            break\n",
    "\n",
    "    advXtrue = torch.cat(advXtrue, dim=0)\n",
    "    advXnew = torch.cat(advXnew, dim=0)\n",
    "    advYtrue = torch.cat(advYtrue, dim=0)\n",
    "    advYnew = torch.cat(advYnew, dim=0)\n",
    "    \n",
    "    return (advXtrue, advXnew, advYtrue, advYnew)\n",
    "\n",
    "adv_dataset = create_dataset(victim_model, mnist_test_data_loader, criterion, device)"
   ]
  },
  {
   "cell_type": "markdown",
   "metadata": {
    "colab_type": "text",
    "id": "Ex3qQp3JolD1"
   },
   "source": [
    "### 1.1.3: Visualizing the results (5 Points)\n",
    "\n",
    "Please chose one sample for each class (for example the first when iterating the test data) and plot the (ten) adversarial examples as well as the predicted label (before and after the attack)"
   ]
  },
  {
   "cell_type": "code",
   "execution_count": 30,
   "metadata": {
    "colab": {},
    "colab_type": "code",
    "id": "eGkp0B0PO1wJ",
    "scrolled": false
   },
   "outputs": [
    {
     "data": {
      "image/png": "[encoded data removed]",
      "text/plain": [
       "<Figure size 432x288 with 2 Axes>"
      ]
     },
     "metadata": {
      "needs_background": "light"
     },
     "output_type": "display_data"
    },
    {
     "data": {
      "image/png": "[encoded data removed]",
      "text/plain": [
       "<Figure size 432x288 with 2 Axes>"
      ]
     },
     "metadata": {
      "needs_background": "light"
     },
     "output_type": "display_data"
    },
    {
     "data": {
      "image/png": "[encoded data removed]",
      "text/plain": [
       "<Figure size 432x288 with 2 Axes>"
      ]
     },
     "metadata": {
      "needs_background": "light"
     },
     "output_type": "display_data"
    },
    {
     "data": {
      "image/png": "[encoded data removed]",
      "text/plain": [
       "<Figure size 432x288 with 2 Axes>"
      ]
     },
     "metadata": {
      "needs_background": "light"
     },
     "output_type": "display_data"
    },
    {
     "data": {
      "image/png": "[encoded data removed]",
      "text/plain": [
       "<Figure size 432x288 with 2 Axes>"
      ]
     },
     "metadata": {
      "needs_background": "light"
     },
     "output_type": "display_data"
    },
    {
     "data": {
      "image/png": "[encoded data removed]",
      "text/plain": [
       "<Figure size 432x288 with 2 Axes>"
      ]
     },
     "metadata": {
      "needs_background": "light"
     },
     "output_type": "display_data"
    },
    {
     "data": {
      "image/png": "[encoded data removed]",
      "text/plain": [
       "<Figure size 432x288 with 2 Axes>"
      ]
     },
     "metadata": {
      "needs_background": "light"
     },
     "output_type": "display_data"
    },
    {
     "data": {
      "image/png": "[encoded data removed]",
      "text/plain": [
       "<Figure size 432x288 with 2 Axes>"
      ]
     },
     "metadata": {
      "needs_background": "light"
     },
     "output_type": "display_data"
    },
    {
     "data": {
      "image/png": "[encoded data removed]",
      "text/plain": [
       "<Figure size 432x288 with 2 Axes>"
      ]
     },
     "metadata": {
      "needs_background": "light"
     },
     "output_type": "display_data"
    },
    {
     "data": {
      "image/png": "[encoded data removed]",
      "text/plain": [
       "<Figure size 432x288 with 2 Axes>"
      ]
     },
     "metadata": {
      "needs_background": "light"
     },
     "output_type": "display_data"
    }
   ],
   "source": [
    "classes_done = [False] * 10 # number of classes.\n",
    "advXtrue, advXnew, advYtrue, advYnew = adv_dataset\n",
    "\n",
    "for i in range(len(advXtrue)):\n",
    "    # print(\"i: {}\".format(i))\n",
    "    if not classes_done[advYtrue[i]]:\n",
    "        # pdb.set_trace()\n",
    "        classes_done[int(advYtrue[i])] = True\n",
    "        fig, ax = plt.subplots(ncols=2)\n",
    "        \n",
    "        ax[0].imshow(advXtrue[i, 0])\n",
    "        ax[0].set_title(\"Original: {}\".format(int(advYtrue[i])))\n",
    "        \n",
    "        ax[1].imshow(advXnew[i, 0])\n",
    "        ax[1].set_title(\"Perturbed: {}\".format(int(advYnew[i])))\n",
    "        \n",
    "    if sum(classes_done) == 10:\n",
    "        break"
   ]
  },
  {
   "cell_type": "markdown",
   "metadata": {
    "colab_type": "text",
    "id": "iPB-GK1CymiV"
   },
   "source": [
    "### 1.2.1: Using libraries for attacks (10 Points)\n",
    "As the field of evasion attacks (in particular for DNN) is very active research field, several libraries have been published that contain attacks. We will work here with the Foolbox (https://github.com/bethgelab/foolbox) library. Please implement two other (recent, advanced) attacks of your choice using this library. "
   ]
  },
  {
   "cell_type": "code",
   "execution_count": 32,
   "metadata": {
    "colab": {},
    "colab_type": "code",
    "id": "pa6rPT53LUW8"
   },
   "outputs": [
    {
     "name": "stderr",
     "output_type": "stream",
     "text": [
      "0it [00:00, ?it/s]\n"
     ]
    }
   ],
   "source": [
    "# Chosen attacks\n",
    "# (a) Spatial Attack (adversarial rotations and translations)\n",
    "\n",
    "import foolbox\n",
    "import numpy as np\n",
    "import torchvision.models as models\n",
    "MODEL_SAVE_PATH = './victim-model.pth'\n",
    "# instantiate model\n",
    "victim_model = CNNModel()\n",
    "victim_model.load_state_dict(torch.load(MODEL_SAVE_PATH))\n",
    "victim_model.eval()\n",
    "\n",
    "fmodel = foolbox.models.PyTorchModel(victim_model, bounds=(0, 1), \n",
    "                                     num_classes=10)\n",
    "\n",
    "adversarials = None\n",
    "inputs = None\n",
    "for i, data in tqdm(enumerate(mnist_train_data_loader, 0)):\n",
    "\n",
    "    inputs, labels = data\n",
    "    \n",
    "    # apply the attack\n",
    "    attack = foolbox.attacks.SpatialAttack(fmodel)\n",
    "    adversarials = attack(inputs.numpy(), labels.numpy())\n",
    "    \n",
    "    break\n",
    "    # if the i'th image is misclassfied without a perturbation, then adversarials[i] will be the same as images[i]\n",
    "    # if the attack fails to find an adversarial for the i'th image, then adversarials[i] will all be np.nan"
   ]
  },
  {
   "cell_type": "code",
   "execution_count": 41,
   "metadata": {},
   "outputs": [
    {
     "data": {
      "image/png": "[encoded data removed]",
      "text/plain": [
       "<Figure size 432x288 with 8 Axes>"
      ]
     },
     "metadata": {
      "needs_background": "light"
     },
     "output_type": "display_data"
    }
   ],
   "source": [
    "R = len(adversarials)\n",
    "p=1\n",
    "for a,i  in zip(adversarials, inputs):\n",
    "    plt.subplot(R,2,p)\n",
    "    plt.imshow(a.squeeze(),cmap='gray')\n",
    "    plt.subplot(R,2,p+1)\n",
    "    plt.imshow(i.squeeze(),cmap='gray')\n",
    "    p=p+2\n",
    "#plt.show()"
   ]
  },
  {
   "cell_type": "code",
   "execution_count": 43,
   "metadata": {},
   "outputs": [
    {
     "name": "stderr",
     "output_type": "stream",
     "text": [
      "\r",
      "0it [00:00, ?it/s]"
     ]
    }
   ],
   "source": [
    "# Chosen attacks\n",
    "# (b) Boundary Attack\n",
    "\n",
    "adversarials = None\n",
    "inputs = None\n",
    "for i, data in tqdm(enumerate(mnist_train_data_loader, 0)):\n",
    "\n",
    "    inputs, labels = data\n",
    "    \n",
    "    # apply the attack\n",
    "    attack = foolbox.attacks.BoundaryAttack(fmodel)\n",
    "    adversarials = attack(inputs.numpy(), labels.numpy())\n",
    "    \n",
    "    break\n",
    "    # if the i'th image is misclassfied without a perturbation, then adversarials[i] will be the same as images[i]\n",
    "    # if the attack fails to find an adversarial for the i'th image, then adversarials[i] will all be np.nan"
   ]
  },
  {
   "cell_type": "code",
   "execution_count": 44,
   "metadata": {},
   "outputs": [
    {
     "data": {
      "image/png": "[encoded data removed]",
      "text/plain": [
       "<Figure size 432x288 with 8 Axes>"
      ]
     },
     "metadata": {
      "needs_background": "light"
     },
     "output_type": "display_data"
    }
   ],
   "source": [
    "R = len(adversarials)\n",
    "p=1\n",
    "for a,i  in zip(adversarials, inputs):\n",
    "    plt.subplot(R,2,p)\n",
    "    plt.imshow(a.squeeze(),cmap='gray')\n",
    "    plt.subplot(R,2,p+1)\n",
    "    plt.imshow(i.squeeze(),cmap='gray')\n",
    "    p=p+2\n",
    "#plt.show()"
   ]
  },
  {
   "cell_type": "markdown",
   "metadata": {
    "colab_type": "text",
    "id": "xVH821TOymic"
   },
   "source": [
    "### 1.2.2: Visualizing the results (20 Points)\n",
    "As before, please plot the new adversarial examples. Compare all crafting techniques (FGSM, 2 methods from Foolbox).\n"
   ]
  },
  {
   "cell_type": "code",
   "execution_count": 0,
   "metadata": {
    "colab": {},
    "colab_type": "code",
    "id": "69nc8PMRymid"
   },
   "outputs": [],
   "source": [
    "#\n",
    "#\n",
    "# ------- Your Code -------\n",
    "#\n",
    "#\n",
    "\n",
    "# template code (Please feel free to change this)\n",
    "# (each column corresponds to one attack method)\n",
    "col_titles = ['Ori','FGSM','Method 1', 'Method 2'] \n",
    "nsamples = 10\n",
    "nrows = nsamples\n",
    "ncols = len(col_titles)\n",
    "\n",
    "fig, axes = plt.subplots(nrows,ncols,figsize=(8,12))  # create the figure with subplots\n",
    "[ax.set_axis_off() for ax in axes.ravel()]  # remove the axis\n",
    "\n",
    "for ax, col in zip(axes[0], col_titles): # set up the title for each column\n",
    "    ax.set_title(col,fontdict={'fontsize':18,'color':'b'})\n",
    "\n",
    "for i in range(nsamples):\n",
    "    axes[i,0].imshow(images_ori[i])\n",
    "    axes[i,1].imshow(adv_FGSM[i])\n",
    "    axes[i,2].imshow(adv_Method1[i])\n",
    "    axes[i,3].imshow(adv_Method2[i])\n",
    "                  "
   ]
  },
  {
   "cell_type": "markdown",
   "metadata": {
    "colab_type": "text",
    "id": "m6HxYLl3O1wV"
   },
   "source": [
    "Which differences do you observe when comparing different attack methods? Why?   \n",
    "Please write a brief summary of your findings.   \n",
    "* Does the attack always succeed (the model make wrong prediction on the adversarial sample)?\n",
    "* How different is the adversarial sample from the original image?\n",
    "(L0,L2,Linf norm)  \n",
    "* How about the computation cost of each attack method?\n",
    "* Does the attack require white-box access to the model?\n",
    "* ....."
   ]
  },
  {
   "cell_type": "markdown",
   "metadata": {
    "colab_type": "text",
    "id": "KJUmrv5Bymij"
   },
   "source": [
    "# 2. Defending an ML model\n",
    "\n",
    "So far, we have focused on attacking an ML model. In this section, we want you to defend your model. As before concerning the attack, you can chose an example from the lecture, or experiment with any idea you have.\n",
    "\n",
    "We do not require the defense to work perfectly - but what we want you to understand is why it works or why it does not work."
   ]
  },
  {
   "cell_type": "markdown",
   "metadata": {
    "colab_type": "text",
    "id": "0gHUFK6Mymik"
   },
   "source": [
    "### 2.1: Implementing a defense of your choice (25 Points)\n",
    "As stated before, feel free to implement a defense or mitigation of your choice. Evaluate the defense on adversarial examples. This entails at least the 1,000 examples crafted from FGSM.   \n",
    "Also, you are encouraged (optional) to defend against the two other attack methods, i.e. you are free to increase this special test set (for example by >30 examples (>10 from your FGSM attack, >10 from both the two other attacks of the library))."
   ]
  },
  {
   "cell_type": "code",
   "execution_count": 0,
   "metadata": {
    "colab": {},
    "colab_type": "code",
    "id": "DD0UalSeymim"
   },
   "outputs": [],
   "source": [
    "#\n",
    "#\n",
    "# ------- Your Code -------\n",
    "#\n",
    "#\n",
    "print('Accuracy on adversarial samples (FGSM) %.2f'%acc_FGSM)\n",
    "print('Accuracy on adversarial samples (FGSM) after defense %.2f'%acc_FGSM_defend)"
   ]
  },
  {
   "cell_type": "markdown",
   "metadata": {
    "colab_type": "text",
    "id": "sIMRqecuymir"
   },
   "source": [
    "### 2.2: Conclusions (15 Points)\n",
    "Please interpret the results of your defense here. \n",
    "\n",
    "* What did you try to make the classifier more robust against FGSM? \n",
    "* Why did it work? \n",
    "* Is the classifier now robust against FGSM?  \n",
    "* ...\n",
    "\n",
    "Feel free to state any interesting finding you encountered during this project."
   ]
  },
  {
   "cell_type": "code",
   "execution_count": 0,
   "metadata": {
    "colab": {},
    "colab_type": "code",
    "id": "scROCZjDymit"
   },
   "outputs": [],
   "source": []
  }
 ],
 "metadata": {
  "colab": {
   "collapsed_sections": [],
   "name": "Project_3_Template.ipynb",
   "provenance": []
  },
  "kernelspec": {
   "display_name": "Python 3",
   "language": "python",
   "name": "python3"
  },
  "language_info": {
   "codemirror_mode": {
    "name": "ipython",
    "version": 3
   },
   "file_extension": ".py",
   "mimetype": "text/x-python",
   "name": "python",
   "nbconvert_exporter": "python",
   "pygments_lexer": "ipython3",
   "version": "3.7.4"
  }
 },
 "nbformat": 4,
 "nbformat_minor": 1
}
