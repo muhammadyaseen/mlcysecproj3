{
 "cells": [
  {
   "cell_type": "markdown",
   "metadata": {
    "colab_type": "text",
    "id": "4NzyqehHjUlG"
   },
   "source": [
    "# ML in Cybersecurity: Project III\n",
    "\n",
    "## Team\n",
    "  * **Team name**:  MMM\n",
    "  * **Members**:  Maria Sargsyan (2576831,msargsyan@mpi-inf.mpg.de), Muneeb Aadil (2581794, maadil@mpi-inf.mpg.de), Muhammad Yaseen (2577833, myaseen@mpi-inf.mpg.de).\n",
    "  * **Tutor**: *???*\n",
    "\n",
    "\n",
    "## Logistics\n",
    "  * **Due date**: 12th December 2019, 13:59:59 \n",
    "  * Email the completed notebook to mlcysec_ws1920_staff@lists.cispa.saarland \n",
    "  * Complete this in the previously established **teams of 3**\n",
    "  * Feel free to use the course [mailing list](https://lists.cispa.saarland/listinfo/mlcysec_ws1920_stud) to discuss.\n",
    "  \n",
    "## Timeline\n",
    "  * 28-Nov-2019: Project 3 hand-out\n",
    "  * **12-Dec-2019** (13:59:59): Email completed notebook to mlcysec_ws1920_staff@lists.cispa.saarland\n",
    "\n",
    "  * 19-Dec-2019: Project 3 discussion and summary\n",
    "  \n",
    "  \n",
    "## About this Project\n",
    "In this project, we dive into the vulnerabilities of machine learning models and the difficulties of defending against them. To this end, we require you to implement an evasion attack (craft adversarial examples) yourselves, and defend your own model.   \n",
    "\n",
    "\n",
    "## A Note on Grading\n",
    "The total number of points in this project is 100. We further provide the number of points achievable with each excercise. You should take particular care to document and visualize your results, though.\n",
    "\n",
    "\n",
    " \n",
    "## Filling-in the Notebook\n",
    "You'll be submitting this very notebook that is filled-in with (all!) your code and analysis. Make sure you submit one that has been previously executed in-order. (So that results/graphs are already visible upon opening it). \n",
    "\n",
    "The notebook you submit **should compile** (or should be self-contained and sufficiently commented). Check tutorial 1 on how to set up the Python3 environment.\n",
    "\n",
    "It is extremely important that you **do not** re-order the existing sections. Apart from that, the code blocks that you need to fill-in are given by:\n",
    "```\n",
    "#\n",
    "#\n",
    "# ------- Your Code -------\n",
    "#\n",
    "#\n",
    "```\n",
    "Feel free to break this into multiple-cells. It's even better if you interleave explanations and code-blocks so that the entire notebook forms a readable \"story\".\n",
    "\n",
    "\n",
    "## Code of Honor\n",
    "We encourage discussing ideas and concepts with other students to help you learn and better understand the course content. However, the work you submit and present **must be original** and demonstrate your effort in solving the presented problems. **We will not tolerate** blatantly using existing solutions (such as from the internet), improper collaboration (e.g., sharing code or experimental data between groups) and plagiarism. If the honor code is not met, no points will be awarded.\n",
    "\n",
    " \n",
    " ## Versions\n",
    "  * v1.0: Initial notebook\n",
    "  * v1.1: Clarifications at 1.1.2, 1.2.2, 2.1\n",
    " \n",
    "  ---"
   ]
  },
  {
   "cell_type": "code",
   "execution_count": 8,
   "metadata": {},
   "outputs": [
    {
     "name": "stdout",
     "output_type": "stream",
     "text": [
      "The autoreload extension is already loaded. To reload it, use:\n",
      "  %reload_ext autoreload\n"
     ]
    }
   ],
   "source": [
    "import time \n",
    " \n",
    "import numpy as np \n",
    "import matplotlib.pyplot as plt \n",
    "\n",
    "import json \n",
    "import time \n",
    "import pickle \n",
    "import sys \n",
    "import csv \n",
    "import os \n",
    "import os.path as osp \n",
    "import shutil \n",
    "\n",
    "import pandas as pd\n",
    "\n",
    "from IPython.display import display, HTML\n",
    " \n",
    "%matplotlib inline \n",
    "plt.rcParams['figure.figsize'] = (10.0, 8.0) # set default size of plots \n",
    "plt.rcParams['image.interpolation'] = 'nearest' \n",
    "plt.rcParams['image.cmap'] = 'gray' \n",
    " \n",
    "# for auto-reloading external modules \n",
    "# see http://stackoverflow.com/questions/1907993/autoreload-of-modules-in-ipython \n",
    "%load_ext autoreload\n",
    "%autoreload 2\n",
    "\n",
    "# Some suggestions of our libraries that might be helpful for this project\n",
    "from collections import Counter          # an even easier way to count\n",
    "from multiprocessing import Pool         # for multiprocessing\n",
    "from tqdm import tqdm                    # fancy progress bars\n",
    "\n",
    "# Load other libraries here.\n",
    "# Keep it minimal! We should be easily able to reproduce your code.\n",
    "# We only support sklearn and pytorch.\n",
    "import torchvision.datasets as datasets\n",
    "import torchvision.transforms as transforms\n",
    "import torch.utils.data as data\n",
    "from torch.utils.data.sampler import SubsetRandomSampler\n",
    "import torchvision\n",
    "\n",
    "# We preload pytorch as an example\n",
    "import torch\n",
    "import torch.nn as nn\n",
    "import torch.nn.functional as F\n",
    "import torch.optim as optim\n",
    "from torch.utils.data import DataLoader, Dataset, TensorDataset\n",
    "\n",
    "\n",
    "# Debugging\n",
    "import pdb"
   ]
  },
  {
   "cell_type": "code",
   "execution_count": 9,
   "metadata": {},
   "outputs": [],
   "source": [
    "compute_mode = 'cpu'\n",
    "\n",
    "if compute_mode == 'cpu':\n",
    "    device = torch.device('cpu')\n",
    "elif compute_mode == 'gpu':\n",
    "    # If you are using pytorch on the GPU cluster, you have to manually specify which GPU device to use\n",
    "    # It is extremely important that you *do not* spawn multi-GPU jobs.\n",
    "    os.environ[\"CUDA_VISIBLE_DEVICES\"] = '0'    # Set device ID here\n",
    "    device = torch.device('cuda')\n",
    "else:\n",
    "    raise ValueError('Unrecognized compute mode')"
   ]
  },
  {
   "cell_type": "markdown",
   "metadata": {
    "colab_type": "text",
    "id": "nxi-lLD0mKHD"
   },
   "source": [
    "#### Helpers\n",
    "\n",
    "In case you choose to have some methods you plan to reuse during the notebook, define them here. This will avoid clutter and keep rest of the notebook succinct."
   ]
  },
  {
   "cell_type": "code",
   "execution_count": 10,
   "metadata": {},
   "outputs": [],
   "source": [
    "def identity_func(foo):\n",
    "    return foo\n",
    "\n",
    "def data_to_arrays(data):\n",
    "    out1 = []\n",
    "    out2 = []\n",
    "    for d in data:\n",
    "        x, y = d\n",
    "        out1.append(x)\n",
    "        out2.append(y)\n",
    "    out1 = torch.cat(out1, dim=0)\n",
    "    out2 = torch.IntTensor(out2)\n",
    "    return out1, out2\n",
    "\n",
    "class IncorrectPrediction:\n",
    "    def __init__(self, true_label, predicted_label, image, prob_dist):\n",
    "        self.true_label = true_label\n",
    "        self.predicted_label = predicted_label\n",
    "        self.image = image\n",
    "        self.prob_dist = prob_dist\n",
    "        \n",
    "\n",
    "class AdversarialExample:\n",
    "    \n",
    "    def __init__(self, true_label, adv_label, \n",
    "                 true_image, adv_image, gen_method, \n",
    "                 true_score, adv_score):\n",
    "        \n",
    "        self.true_label = true_label\n",
    "        self.adv_label  = adv_label\n",
    "        self.true_image = true_image\n",
    "        self.adv_image  = adv_image\n",
    "        self.gen_method = gen_method\n",
    "        self.true_score = np.exp(true_score)/np.sum(np.exp(true_score))\n",
    "        self.adv_score  = np.exp(adv_score)/np.sum(np.exp(adv_score))\n",
    "        \n",
    "        \n",
    "def get_accuracy_from_predictions(actual, predictions, verbose=False):\n",
    "\n",
    "    assert actual.size() == predictions.size()\n",
    "    incorrect = torch.sum(predictions != actual).item()\n",
    "    total = float(actual.size()[0])\n",
    "    acc = 1 - (incorrect / total)\n",
    "    if verbose: \n",
    "      print('{0} predictions not correct from a total of {1}'.format(incorrect, total))\n",
    "      print('Accuracy: {0}%'.format(acc*100))\n",
    "    \n",
    "    return acc"
   ]
  },
  {
   "cell_type": "markdown",
   "metadata": {
    "colab_type": "text",
    "id": "n1pcmKkyjT7y"
   },
   "source": [
    "# 1. Attacking an ML-model\n",
    "\n",
    "In this section, we implement an attack ourselves. We then leverage the Foolbox library to craft adversarial examples. First, however, you need a model you can attack. Feel free to choose the DNN/ConvNN from project 1.\n",
    "\n",
    "Hint: you might want to save the trained model to save time later."
   ]
  },
  {
   "cell_type": "markdown",
   "metadata": {
    "colab_type": "text",
    "id": "QaJv_d_Dp7OM"
   },
   "source": [
    "### 1.1.1: Setting up the model (5 Points)\n",
    "\n",
    "Re-use the model from project 1 here and train it until it achieves reasonable accuracy (>92%)."
   ]
  },
  {
   "cell_type": "markdown",
   "metadata": {},
   "source": [
    "#### 1.1.1.1: Loading MNIST Data\n",
    "\n",
    "Load and process MNIST data"
   ]
  },
  {
   "cell_type": "code",
   "execution_count": 38,
   "metadata": {},
   "outputs": [],
   "source": [
    "# Loading MNIST data\n",
    "BATCH_SIZE = 4\n",
    "VALIDATION_FRACTION = 0.1\n",
    "EPOCHS = 2\n",
    "CLASSES = [str(i) for i in range(0,10)]\n",
    "\n",
    "tsfms = transforms.Compose([\n",
    "    transforms.ToTensor(),  # data loader returns a PIL image, we need to transform it to a Tensor object\n",
    "])\n",
    "\n",
    "# train and test datasets, transformed to a tensor\n",
    "mnist_train_data = torchvision.datasets.MNIST(root=\"./mnist-data/\", download=True, train=True, transform=tsfms)\n",
    "mnist_val_data = torchvision.datasets.MNIST(root=\"./mnist-data/\", download=True, train=True, transform=tsfms)\n",
    "mnist_test_data = torchvision.datasets.MNIST(root=\"./mnist-data/\", download=True, train=False, transform=tsfms)\n",
    "\n",
    "# we need to create a disjoint validation set from within the training set\n",
    "# following the approach taken in this link\n",
    "# https://gist.github.com/kevinzakka/d33bf8d6c7f06a9d8c76d97a7879f5cb\n",
    "\n",
    "num_training = len(mnist_train_data)\n",
    "all_indices = list(range(num_training)) # this gives us indices over the whole training set\n",
    "split = int(np.floor( VALIDATION_FRACTION * num_training))\n",
    "# split indices into disjoint sets\n",
    "train_indices, val_indices = all_indices[split:], all_indices[:split]\n",
    "\n",
    "# now we have the indices for train and val sets, we create a pytorch \n",
    "# custom sampler over both datasets\n",
    "train_sampler = SubsetRandomSampler(train_indices)\n",
    "val_sampler = SubsetRandomSampler(val_indices)\n",
    "\n",
    "# represents a data loader, takes care of random batching and indexing etc.\n",
    "mnist_train_data_loader = torch.utils.data.DataLoader(mnist_train_data, batch_size=BATCH_SIZE, sampler=train_sampler)\n",
    "mnist_val_data_loader   = torch.utils.data.DataLoader(mnist_val_data, batch_size=BATCH_SIZE, sampler=val_sampler)\n",
    "mnist_test_data_loader  = torch.utils.data.DataLoader(mnist_test_data, batch_size=1, shuffle=False)\n",
    "\n",
    "# we need this to construct adversarial examples easily.\n",
    "# if we directly use train_data_loader, it gives shuffled data and in \n",
    "# batches of 4, we OTOH want unshuffled and 1 example.\n",
    "mnist_adv_data_loader = torch.utils.data.DataLoader(mnist_train_data, batch_size=1, shuffle=False)\n"
   ]
  },
  {
   "cell_type": "markdown",
   "metadata": {},
   "source": [
    "#### 1.1.1.2: Defining the Model\n",
    "\n",
    "Define the CNN Model"
   ]
  },
  {
   "cell_type": "code",
   "execution_count": 12,
   "metadata": {},
   "outputs": [],
   "source": [
    "# Model represented as class\n",
    "\n",
    "class CNNModel(nn.Module):\n",
    "\n",
    "    def __init__(self):\n",
    "    \n",
    "        super(CNNModel, self).__init__()\n",
    "\n",
    "        ## formula to make sure params work out\n",
    "        ## W_out = (W_in - F)/S + 1\n",
    "        ## from http://cs231n.github.io/convolutional-networks/\n",
    "\n",
    "        ## we will have 2 conv layers\n",
    "\n",
    "        # in_channel is 1 bcz MNIST is a BW dataset\n",
    "        # from 1 input, we create 6 output feature maps, using 5x5 kernels\n",
    "        # input is 28x28, output will be 24x24\n",
    "        self.conv1 = nn.Conv2d(in_channels=1, out_channels=6, kernel_size=5)\n",
    "\n",
    "        # max pool over the 2x2 region.\n",
    "        # input is 24x24, output will be 12x12 \n",
    "        self.pool1 = nn.MaxPool2d(kernel_size=2, stride=2)\n",
    "\n",
    "        # after max pool, out spatial dim is reduced, but num channels coming from \n",
    "        # prev conv1 is still 6. We create 16 feature maps, again using 5x5 kernels\n",
    "        # input is 12x12, output will be 8x8\n",
    "        self.conv2 = nn.Conv2d(in_channels=6, out_channels=16, kernel_size=5)\n",
    "\n",
    "        # max pool over the 2x2 region. \n",
    "        # input is 8x8, output will be 4x4\n",
    "        self.pool2 = nn.MaxPool2d(kernel_size=2, stride=2)\n",
    "\n",
    "        ## followed by 2 FC layers, y = Wx + b\n",
    "        # we take features computer after the pool2 step.\n",
    "        # we have 16 maps, each of size 4x4. We will flatten them\n",
    "        self.fc1 = nn.Linear(in_features=16*4*4, out_features=120)\n",
    "        self.fc2 = nn.Linear(in_features=120, out_features=84)\n",
    "\n",
    "        ## and a last FC layer for predictions\n",
    "        self.fc3 = nn.Linear(in_features=84, out_features=10)\n",
    "\n",
    "    # we define the fwd pass, backward pass is automatically defined \n",
    "    # by PyTorch thru lineage\n",
    "\n",
    "    def forward(self, x):\n",
    "\n",
    "        x = self.pool1(F.relu(self.conv1(x)))\n",
    "        x = self.pool2(F.relu(self.conv2(x)))\n",
    "\n",
    "        # flatten\n",
    "        x = x.view(-1, 16*4*4)\n",
    "        x = F.relu(self.fc1(x))\n",
    "        x = F.relu(self.fc2(x))\n",
    "        #x = F.tanh(self.fc1(x))\n",
    "        #x = F.tanh(self.fc2(x))\n",
    "        x = self.fc3(x)\n",
    "\n",
    "        return x"
   ]
  },
  {
   "cell_type": "code",
   "execution_count": 6,
   "metadata": {},
   "outputs": [],
   "source": [
    "# Function to test the model on a give (sub)set.\n",
    "\n",
    "def test_model(cnn_model, is_test_set=False, verbose=False):\n",
    "\n",
    "    class_preds = []\n",
    "    ground_truth = []\n",
    "    incorrect_predictions = []\n",
    "    TEST = is_test_set\n",
    "\n",
    "\n",
    "    with torch.no_grad():\n",
    "        for data in mnist_test_data_loader if TEST else mnist_val_data_loader:\n",
    "            images, labels = data\n",
    "\n",
    "            # get (unnormalized) predictions\n",
    "            predictions = cnn_model(images)\n",
    "            # normalize to get probability distribution\n",
    "            batch_class_probabilities = [F.softmax(el, dim=0) for el in predictions]\n",
    "            # get index of max value which corresponds to the predicted label\n",
    "            # we discard actual values because they are of no use as we use \n",
    "            # probability dist\n",
    "            _, predicted_labels = torch.max(predictions, 1)\n",
    "\n",
    "            # we save some of the incorrect predictions to view them later for \n",
    "            # insights and reasoning\n",
    "            for i,(t,p) in enumerate(zip(labels.tolist(),predicted_labels.tolist())):\n",
    "                if t != p:\n",
    "                    incorrect_predictions.append(IncorrectPrediction(t,p,images[i],batch_class_probabilities[i]))\n",
    "\n",
    "            ground_truth.append(labels)\n",
    "            #class_probs.append(batch_class_probabilities)\n",
    "            class_preds.append(predicted_labels)\n",
    "\n",
    "    # concat predictions from all batches to get a single vector\n",
    "    test_preds = torch.cat(class_preds)\n",
    "    # actual labels\n",
    "    ground_truth = torch.cat(ground_truth)\n",
    "    # calculate accuracy in percentage given predictions and ground truth\n",
    "    accuracy = get_accuracy_from_predictions(ground_truth, test_preds, verbose=verbose)\n",
    "\n",
    "    return accuracy, incorrect_predictions"
   ]
  },
  {
   "cell_type": "markdown",
   "metadata": {},
   "source": [
    "#### 1.1.1.3: Defining the Loss function, Optimization, and Training Loop"
   ]
  },
  {
   "cell_type": "code",
   "execution_count": 8,
   "metadata": {
    "scrolled": true
   },
   "outputs": [
    {
     "name": "stderr",
     "output_type": "stream",
     "text": [
      "9it [00:00, 78.75it/s]"
     ]
    },
    {
     "name": "stdout",
     "output_type": "stream",
     "text": [
      "Epoch [1 / 2]\n"
     ]
    },
    {
     "name": "stderr",
     "output_type": "stream",
     "text": [
      "1021it [00:08, 24.52it/s]"
     ]
    },
    {
     "name": "stdout",
     "output_type": "stream",
     "text": [
      "Loss: 2.294882250070572 \t Validation Accuracy: 25.4%\n"
     ]
    },
    {
     "name": "stderr",
     "output_type": "stream",
     "text": [
      "2026it [00:19, 16.06it/s] "
     ]
    },
    {
     "name": "stdout",
     "output_type": "stream",
     "text": [
      "Loss: 1.5563014516271652 \t Validation Accuracy: 81.96666666666667%\n"
     ]
    },
    {
     "name": "stderr",
     "output_type": "stream",
     "text": [
      "3014it [00:32, 11.55it/s] "
     ]
    },
    {
     "name": "stdout",
     "output_type": "stream",
     "text": [
      "Loss: 0.42080974123906345 \t Validation Accuracy: 91.96666666666667%\n"
     ]
    },
    {
     "name": "stderr",
     "output_type": "stream",
     "text": [
      "4023it [00:42, 22.96it/s] "
     ]
    },
    {
     "name": "stdout",
     "output_type": "stream",
     "text": [
      "Loss: 0.26908470528037287 \t Validation Accuracy: 93.63333333333334%\n"
     ]
    },
    {
     "name": "stderr",
     "output_type": "stream",
     "text": [
      "5019it [00:52, 19.40it/s] "
     ]
    },
    {
     "name": "stdout",
     "output_type": "stream",
     "text": [
      "Loss: 0.21000112865847767 \t Validation Accuracy: 95.39999999999999%\n"
     ]
    },
    {
     "name": "stderr",
     "output_type": "stream",
     "text": [
      "6020it [01:02, 25.43it/s] "
     ]
    },
    {
     "name": "stdout",
     "output_type": "stream",
     "text": [
      "Loss: 0.15966528247332462 \t Validation Accuracy: 96.03333333333333%\n"
     ]
    },
    {
     "name": "stderr",
     "output_type": "stream",
     "text": [
      "7013it [01:12, 16.85it/s] "
     ]
    },
    {
     "name": "stdout",
     "output_type": "stream",
     "text": [
      "Loss: 0.17007265138000366 \t Validation Accuracy: 94.71666666666667%\n"
     ]
    },
    {
     "name": "stderr",
     "output_type": "stream",
     "text": [
      "8007it [01:19, 36.15it/s] "
     ]
    },
    {
     "name": "stdout",
     "output_type": "stream",
     "text": [
      "Loss: 0.1499237997391465 \t Validation Accuracy: 96.0%\n"
     ]
    },
    {
     "name": "stderr",
     "output_type": "stream",
     "text": [
      "9013it [01:28, 26.35it/s] "
     ]
    },
    {
     "name": "stdout",
     "output_type": "stream",
     "text": [
      "Loss: 0.14298264545518033 \t Validation Accuracy: 95.89999999999999%\n"
     ]
    },
    {
     "name": "stderr",
     "output_type": "stream",
     "text": [
      "10026it [01:37, 23.96it/s]"
     ]
    },
    {
     "name": "stdout",
     "output_type": "stream",
     "text": [
      "Loss: 0.1366205158978919 \t Validation Accuracy: 95.68333333333334%\n"
     ]
    },
    {
     "name": "stderr",
     "output_type": "stream",
     "text": [
      "11024it [01:47, 26.58it/s] "
     ]
    },
    {
     "name": "stdout",
     "output_type": "stream",
     "text": [
      "Loss: 0.11142310378432739 \t Validation Accuracy: 97.13333333333334%\n"
     ]
    },
    {
     "name": "stderr",
     "output_type": "stream",
     "text": [
      "12025it [01:56, 29.00it/s] "
     ]
    },
    {
     "name": "stdout",
     "output_type": "stream",
     "text": [
      "Loss: 0.11915542259835638 \t Validation Accuracy: 97.23333333333333%\n"
     ]
    },
    {
     "name": "stderr",
     "output_type": "stream",
     "text": [
      "13024it [02:10, 15.71it/s] "
     ]
    },
    {
     "name": "stdout",
     "output_type": "stream",
     "text": [
      "Loss: 0.09695178625350309 \t Validation Accuracy: 97.43333333333334%\n"
     ]
    },
    {
     "name": "stderr",
     "output_type": "stream",
     "text": [
      "13500it [02:13, 101.23it/s]\n",
      "25it [00:00, 249.01it/s]"
     ]
    },
    {
     "name": "stdout",
     "output_type": "stream",
     "text": [
      "Epoch [2 / 2]\n"
     ]
    },
    {
     "name": "stderr",
     "output_type": "stream",
     "text": [
      "1036it [00:07, 19.01it/s]"
     ]
    },
    {
     "name": "stdout",
     "output_type": "stream",
     "text": [
      "Loss: 0.14563944652492136 \t Validation Accuracy: 96.65%\n"
     ]
    },
    {
     "name": "stderr",
     "output_type": "stream",
     "text": [
      "2015it [00:15, 37.61it/s] "
     ]
    },
    {
     "name": "stdout",
     "output_type": "stream",
     "text": [
      "Loss: 0.08006627682904946 \t Validation Accuracy: 97.5%\n"
     ]
    },
    {
     "name": "stderr",
     "output_type": "stream",
     "text": [
      "3012it [00:26, 13.14it/s] "
     ]
    },
    {
     "name": "stdout",
     "output_type": "stream",
     "text": [
      "Loss: 0.0832274521874424 \t Validation Accuracy: 97.15%\n"
     ]
    },
    {
     "name": "stderr",
     "output_type": "stream",
     "text": [
      "4024it [00:37, 19.94it/s] "
     ]
    },
    {
     "name": "stdout",
     "output_type": "stream",
     "text": [
      "Loss: 0.0844800882551899 \t Validation Accuracy: 97.85000000000001%\n"
     ]
    },
    {
     "name": "stderr",
     "output_type": "stream",
     "text": [
      "5002it [00:50, 11.37it/s] "
     ]
    },
    {
     "name": "stdout",
     "output_type": "stream",
     "text": [
      "Loss: 0.08467935696671157 \t Validation Accuracy: 96.33333333333334%\n"
     ]
    },
    {
     "name": "stderr",
     "output_type": "stream",
     "text": [
      "6032it [01:01, 28.82it/s] "
     ]
    },
    {
     "name": "stdout",
     "output_type": "stream",
     "text": [
      "Loss: 0.07876643193680957 \t Validation Accuracy: 97.66666666666667%\n"
     ]
    },
    {
     "name": "stderr",
     "output_type": "stream",
     "text": [
      "7020it [01:09, 28.21it/s] "
     ]
    },
    {
     "name": "stdout",
     "output_type": "stream",
     "text": [
      "Loss: 0.06785180580786891 \t Validation Accuracy: 97.86666666666667%\n"
     ]
    },
    {
     "name": "stderr",
     "output_type": "stream",
     "text": [
      "8018it [01:19, 25.90it/s] "
     ]
    },
    {
     "name": "stdout",
     "output_type": "stream",
     "text": [
      "Loss: 0.07035395660849736 \t Validation Accuracy: 97.66666666666667%\n"
     ]
    },
    {
     "name": "stderr",
     "output_type": "stream",
     "text": [
      "9001it [01:28, 18.94it/s] "
     ]
    },
    {
     "name": "stdout",
     "output_type": "stream",
     "text": [
      "Loss: 0.07824270795823213 \t Validation Accuracy: 97.11666666666666%\n"
     ]
    },
    {
     "name": "stderr",
     "output_type": "stream",
     "text": [
      "10033it [01:39, 33.54it/s]"
     ]
    },
    {
     "name": "stdout",
     "output_type": "stream",
     "text": [
      "Loss: 0.08024027081369287 \t Validation Accuracy: 97.65%\n"
     ]
    },
    {
     "name": "stderr",
     "output_type": "stream",
     "text": [
      "10627it [01:43, 188.31it/s]"
     ]
    }
   ],
   "source": [
    "# initialize an instance of CNN model\n",
    "cnn_model = CNNModel()\n",
    "\n",
    "# automatically takes care of one-hot encoding the labels \n",
    "# https://pytorch.org/docs/stable/nn.html#crossentropyloss\n",
    "loss_fn = nn.CrossEntropyLoss() \n",
    "optimizer = optim.SGD(cnn_model.parameters(), lr=0.001, momentum=0.9)\n",
    "\n",
    "running_loss = 0.0\n",
    "val_acc_history = []\n",
    "loss_history = []\n",
    "\n",
    "best_model = None\n",
    "best_val_acc = None\n",
    "# the training loop\n",
    "for epoch in range(EPOCHS):\n",
    "\n",
    "    print(\"Epoch [{} / {}]\".format(epoch+1, EPOCHS))\n",
    "    for i, data in tqdm(enumerate(mnist_train_data_loader, 0)):\n",
    "\n",
    "        inputs, labels = data\n",
    "        optimizer.zero_grad()\n",
    "        outputs = cnn_model(inputs)\n",
    "        loss = loss_fn(outputs, labels)\n",
    "        loss.backward()\n",
    "        optimizer.step()\n",
    "\n",
    "        running_loss += loss.item()\n",
    "\n",
    "        if i % 1000 == 999:\n",
    "            loss_per_1k = running_loss / 1000.0\n",
    "            loss_history.append(loss_per_1k)\n",
    "            \n",
    "            val_acc, _ = test_model(cnn_model, is_test_set=False)\n",
    "            val_acc_history.append(val_acc)\n",
    "            \n",
    "            print(\"Loss: {0} \\t Validation Accuracy: {1}%\".format(str(loss_per_1k), str(val_acc*100)))\n",
    "            \n",
    "            running_loss = 0.0\n",
    "\n",
    "print(\"Finished training\")"
   ]
  },
  {
   "cell_type": "code",
   "execution_count": 14,
   "metadata": {},
   "outputs": [
    {
     "data": {
      "image/png": "[encoded data removed]",
      "text/plain": [
       "<Figure size 1008x504 with 2 Axes>"
      ]
     },
     "metadata": {
      "needs_background": "light"
     },
     "output_type": "display_data"
    },
    {
     "data": {
      "text/plain": [
       "<Figure size 432x288 with 0 Axes>"
      ]
     },
     "metadata": {},
     "output_type": "display_data"
    }
   ],
   "source": [
    "# Visualize trainset performance\n",
    "\n",
    "# plot loss curve per 1000 batches (per 4000 examples if BS = 4)\n",
    "# Note: we didn't plot it against num_epochs because we didn't run many epochs as network \n",
    "# converges after 1 or 2. We thought it would be more interesting to see trends b/w batches.\n",
    "fig, ax = plt.subplots(ncols=2, figsize=(14,7))\n",
    "ax[0].plot(range(len(loss_history)), loss_history,  \n",
    "         color='g', alpha=0.8, marker='.')\n",
    "ax[0].set( \n",
    "    xlabel='Batch (x1000)', \n",
    "    ylabel='Loss', \n",
    "    title='Training progress vs. Loss')\n",
    "\n",
    "\n",
    "# plot val acc per 1000 batches (per 4000 examples if BS = 4)\n",
    "ax[1].plot(range(len(val_acc_history)), val_acc_history,  \n",
    "         color='b', alpha=0.8, marker='.')\n",
    "ax[1].set( \n",
    "    xlabel='Batch (x1000)', \n",
    "    ylabel='Validation Accuracy', \n",
    "    title='Training progress vs. Validation Accuracy')\n",
    "plt.show()\n",
    "plt.tight_layout()"
   ]
  },
  {
   "cell_type": "markdown",
   "metadata": {},
   "source": [
    "#### 1.1.1.4: Evaluation\n",
    "\n",
    "Before attacking the model, we need to make sure that it achieves >95% accuracy on test set.\n"
   ]
  },
  {
   "cell_type": "code",
   "execution_count": 16,
   "metadata": {},
   "outputs": [
    {
     "name": "stdout",
     "output_type": "stream",
     "text": [
      "Accuracy on unseen test data is 97.94%\n"
     ]
    }
   ],
   "source": [
    "accuracy, incorrect_predictions = test_model(cnn_model, is_test_set=True, verbose=False)\n",
    "print('Accuracy on unseen test data is {0}%'.format(accuracy*100))"
   ]
  },
  {
   "cell_type": "code",
   "execution_count": 19,
   "metadata": {},
   "outputs": [],
   "source": [
    "# save the trained model.\n",
    "MODEL_SAVE_PATH = './victim-model.pth'\n",
    "torch.save(cnn_model.cpu().state_dict(), MODEL_SAVE_PATH)"
   ]
  },
  {
   "cell_type": "markdown",
   "metadata": {
    "colab_type": "text",
    "id": "DEQrdyLHsUIu"
   },
   "source": [
    "### 1.1.2: Implementing an attack (15 Points)\n",
    "\n",
    "We now want you to attack the model trained in the previous step. Please implement the FGSM attack mentioned in the lecture. "
   ]
  },
  {
   "cell_type": "code",
   "execution_count": 9,
   "metadata": {
    "colab": {},
    "colab_type": "code",
    "id": "gcVZnUNbRKOz"
   },
   "outputs": [],
   "source": [
    "def FGSM(model, Xtrue, Ytrue, criterion, epsilon=0.01, min_val=0, max_val=1):\n",
    "    \"\"\"\n",
    "    Implements the one step FGSM attack.\n",
    "    \"\"\"\n",
    "    # we use this for calculating gradients for image,\n",
    "    Xtrue.requires_grad = True\n",
    "    # which is turned off by default.\n",
    "    \n",
    "    Ypred = model(Xtrue)\n",
    "    _, pred_classes_before = torch.max(Ypred, dim=1)\n",
    "    pred_classes_before = pred_classes_before.data\n",
    "\n",
    "    # TODO: generalize min_val and max_val variables.\n",
    "    loss = criterion(Ypred, Ytrue)\n",
    "    \n",
    "    # calculate gradients\n",
    "    model.zero_grad()\n",
    "    loss.backward()\n",
    "    \n",
    "    # pdb.set_trace()\n",
    "    \n",
    "    with torch.no_grad():\n",
    "        grad_sign = Xtrue.grad.data.sign()\n",
    "        Xperturbed = Xtrue.data + (epsilon * grad_sign)\n",
    "        Xperturbed = torch.clamp(Xperturbed, min=0, max=1)\n",
    "        \n",
    "        Ypred_ = model(Xperturbed)\n",
    "        _, pred_classes_after = torch.max(Ypred_, dim=1)\n",
    "        pred_classes_after = pred_classes_after.data\n",
    "        \n",
    "    return Xperturbed, pred_classes_before, pred_classes_after"
   ]
  },
  {
   "cell_type": "markdown",
   "metadata": {
    "colab_type": "text",
    "id": "RNpI3oUoO1wE"
   },
   "source": [
    "### 1.1.3: adversarial sample set (5 Points)\n",
    "\n",
    "Please additionally generate a dataset containing at least 1,000 adversarial examples using FGSM."
   ]
  },
  {
   "cell_type": "code",
   "execution_count": 30,
   "metadata": {
    "colab": {},
    "colab_type": "code",
    "id": "EvYpo9p2O1wF",
    "scrolled": true
   },
   "outputs": [],
   "source": [
    "def create_dataset(model, loader, criterion, device, epsilon=0.2, max_limit=2000):\n",
    "    curr_adv_samples = 0.0\n",
    "    total = 0.0\n",
    "    advXtrue, advXnew, advYtrue, advYnew = [], [], [], []\n",
    "    for (Xtest, Ytest) in tqdm(loader):\n",
    "        Xtest = Xtest.to(device)\n",
    "        Ytest = Ytest.to(device)\n",
    "        Yperturbed, preds_before, preds_after = FGSM(model ,Xtest, Ytest,\n",
    "                                                     criterion, epsilon=epsilon)\n",
    "        if (preds_before == Ytest) and (preds_before != preds_after):\n",
    "            advXtrue.append(Xtest.data)\n",
    "            advXnew.append(Yperturbed)\n",
    "            advYtrue.append(preds_before)\n",
    "            advYnew.append(preds_after)\n",
    "            \n",
    "            curr_adv_samples += 1\n",
    "\n",
    "        if (max_limit > 0) and (curr_adv_samples == max_limit):\n",
    "            break\n",
    "        total += 1\n",
    "\n",
    "    advXtrue = torch.cat(advXtrue, dim=0)\n",
    "    advXnew = torch.cat(advXnew, dim=0)\n",
    "    advYtrue = torch.cat(advYtrue, dim=0)\n",
    "    advYnew = torch.cat(advYnew, dim=0)\n",
    "    \n",
    "    return (advXtrue, advXnew, advYtrue, advYnew, curr_adv_samples / total)"
   ]
  },
  {
   "cell_type": "code",
   "execution_count": 33,
   "metadata": {},
   "outputs": [
    {
     "name": "stderr",
     "output_type": "stream",
     "text": [
      "100%|██████████| 10000/10000 [00:49<00:00, 203.96it/s]\n"
     ]
    }
   ],
   "source": [
    "# load the trained model\n",
    "MODEL_LOAD_PATH = './victim-model.pth'\n",
    "victim_model = CNNModel().to(device)\n",
    "victim_model.load_state_dict(torch.load(MODEL_LOAD_PATH))\n",
    "victim_model.eval()\n",
    "\n",
    "criterion = torch.nn.CrossEntropyLoss().to(device)\n",
    "\n",
    "# create dataset\n",
    "adv_dataset = create_dataset(victim_model, mnist_test_data_loader, criterion, device, epsilon=.3, max_limit=-1)"
   ]
  },
  {
   "cell_type": "markdown",
   "metadata": {
    "colab_type": "text",
    "id": "Ex3qQp3JolD1"
   },
   "source": [
    "### 1.1.3: Visualizing the results (5 Points)\n",
    "\n",
    "Please chose one sample for each class (for example the first when iterating the test data) and plot the (ten) adversarial examples as well as the predicted label (before and after the attack)"
   ]
  },
  {
   "cell_type": "code",
   "execution_count": 30,
   "metadata": {
    "colab": {},
    "colab_type": "code",
    "id": "eGkp0B0PO1wJ",
    "scrolled": false
   },
   "outputs": [
    {
     "data": {
      "image/png": "[encoded data removed]",
      "text/plain": [
       "<Figure size 432x288 with 2 Axes>"
      ]
     },
     "metadata": {
      "needs_background": "light"
     },
     "output_type": "display_data"
    },
    {
     "data": {
      "image/png": "[encoded data removed]",
      "text/plain": [
       "<Figure size 432x288 with 2 Axes>"
      ]
     },
     "metadata": {
      "needs_background": "light"
     },
     "output_type": "display_data"
    },
    {
     "data": {
      "image/png": "[encoded data removed]",
      "text/plain": [
       "<Figure size 432x288 with 2 Axes>"
      ]
     },
     "metadata": {
      "needs_background": "light"
     },
     "output_type": "display_data"
    },
    {
     "data": {
      "image/png": "[encoded data removed]",
      "text/plain": [
       "<Figure size 432x288 with 2 Axes>"
      ]
     },
     "metadata": {
      "needs_background": "light"
     },
     "output_type": "display_data"
    },
    {
     "data": {
      "image/png": "[encoded data removed]",
      "text/plain": [
       "<Figure size 432x288 with 2 Axes>"
      ]
     },
     "metadata": {
      "needs_background": "light"
     },
     "output_type": "display_data"
    },
    {
     "data": {
      "image/png": "[encoded data removed]",
      "text/plain": [
       "<Figure size 432x288 with 2 Axes>"
      ]
     },
     "metadata": {
      "needs_background": "light"
     },
     "output_type": "display_data"
    },
    {
     "data": {
      "image/png": "[encoded data removed]",
      "text/plain": [
       "<Figure size 432x288 with 2 Axes>"
      ]
     },
     "metadata": {
      "needs_background": "light"
     },
     "output_type": "display_data"
    },
    {
     "data": {
      "image/png": "[encoded data removed]",
      "text/plain": [
       "<Figure size 432x288 with 2 Axes>"
      ]
     },
     "metadata": {
      "needs_background": "light"
     },
     "output_type": "display_data"
    },
    {
     "data": {
      "image/png": "[encoded data removed]",
      "text/plain": [
       "<Figure size 432x288 with 2 Axes>"
      ]
     },
     "metadata": {
      "needs_background": "light"
     },
     "output_type": "display_data"
    },
    {
     "data": {
      "image/png": "[encoded data removed]",
      "text/plain": [
       "<Figure size 432x288 with 2 Axes>"
      ]
     },
     "metadata": {
      "needs_background": "light"
     },
     "output_type": "display_data"
    }
   ],
   "source": [
    "classes_done = [False] * 10 # number of classes.\n",
    "advXtrue, advXnew, advYtrue, advYnew = adv_dataset\n",
    "\n",
    "for i in range(len(advXtrue)):\n",
    "    # print(\"i: {}\".format(i))\n",
    "    if not classes_done[advYtrue[i]]:\n",
    "        # pdb.set_trace()\n",
    "        classes_done[int(advYtrue[i])] = True\n",
    "        fig, ax = plt.subplots(ncols=2)\n",
    "        \n",
    "        ax[0].imshow(advXtrue[i, 0])\n",
    "        ax[0].set_title(\"Original: {}\".format(int(advYtrue[i])))\n",
    "        \n",
    "        ax[1].imshow(advXnew[i, 0])\n",
    "        ax[1].set_title(\"Perturbed: {}\".format(int(advYnew[i])))\n",
    "        \n",
    "    if sum(classes_done) == 10:\n",
    "        break"
   ]
  },
  {
   "cell_type": "markdown",
   "metadata": {
    "colab_type": "text",
    "id": "iPB-GK1CymiV"
   },
   "source": [
    "### 1.2.1: Using libraries for attacks (10 Points)\n",
    "As the field of evasion attacks (in particular for DNN) is very active research field, several libraries have been published that contain attacks. We will work here with the Foolbox (https://github.com/bethgelab/foolbox) library. Please implement two other (recent, advanced) attacks of your choice using this library. "
   ]
  },
  {
   "cell_type": "code",
   "execution_count": 39,
   "metadata": {
    "colab": {},
    "colab_type": "code",
    "id": "pa6rPT53LUW8"
   },
   "outputs": [],
   "source": [
    "# Chosen attacks\n",
    "# (a) Spatial Attack (adversarial rotations and translations)\n",
    "\n",
    "import foolbox\n",
    "import numpy as np\n",
    "import torchvision.models as models\n",
    "\n",
    "\n",
    "def attack_model(victim_model, max_adv_examples, attack_name, **attack_params):\n",
    "    \n",
    "    \"\"\"\n",
    "    \n",
    "    \"\"\"\n",
    "    print(\"attacking vica \" + attack_name)\n",
    "    supported_attacks = ['spatial',  # Spatial Attack\n",
    "                         'gaussblur', # Boundary Attack\n",
    "                        ]\n",
    "    assert attack_name in supported_attacks, \"Attack Not supported\"\n",
    "    \n",
    "    fmodel = foolbox.models.PyTorchModel(victim_model, bounds=(0, 1), \n",
    "                                     num_classes=10)\n",
    "    adversarial_examples = []\n",
    "      \n",
    "    # initialize attack\n",
    "    attack = None\n",
    "    \n",
    "    if attack_name == 'spatial':\n",
    "        attack = foolbox.attacks.SpatialAttack(fmodel)\n",
    "    if attack_name == 'gaussblur':\n",
    "        attack = foolbox.attacks.GaussianBlurAttack(fmodel)\n",
    "        \n",
    "    for i, data in tqdm(enumerate(mnist_adv_data_loader, 0)):\n",
    "\n",
    "        inputs, labels = data\n",
    "\n",
    "        print(inputs.shape)\n",
    "        print(labels.shape)\n",
    "        \n",
    "        adversarials = attack(inputs.numpy(), labels.numpy())\n",
    "        \n",
    "        # we need to iter over batch to construct our object\n",
    "        for b in range(0, 1):\n",
    "            \n",
    "            adversarial_examples.append(\n",
    "                AdversarialExample(\n",
    "                    true_label  = labels[b],\n",
    "                    adv_label   = torch.argmax(\n",
    "                                     victim_model(\n",
    "                                        torch.unsqueeze(torch.Tensor(adversarials[b]),1)\n",
    "                                     )\n",
    "                                  ).detach().numpy(),        # from tensor to numpy\n",
    "                    true_image  = inputs[b].squeeze(),       # get rid of batch dimension\n",
    "                    adv_image   = adversarials[b].squeeze(), # get rid of batch dimension\n",
    "                    gen_method  = attack_name,\n",
    "                    true_score  = victim_model(torch.unsqueeze(inputs[b],1)).detach().numpy()[0],\n",
    "                    adv_score   = victim_model(torch.unsqueeze(torch.Tensor(adversarials[b]),1)).detach().numpy()[0],\n",
    "                )\n",
    "            )\n",
    "        \n",
    "        if len(adversarial_examples) >= max_adv_examples:\n",
    "            break\n",
    "    \n",
    "    return adversarial_examples"
   ]
  },
  {
   "cell_type": "code",
   "execution_count": 40,
   "metadata": {},
   "outputs": [
    {
     "name": "stderr",
     "output_type": "stream",
     "text": [
      "\n",
      "\n",
      "0it [00:00, ?it/s]\u001b[A\u001b[A\n",
      "\n",
      "\n",
      "0it [00:00, ?it/s]\u001b[A\u001b[A\n",
      "\n",
      "1it [00:00,  7.08it/s]\u001b[A\u001b[A"
     ]
    },
    {
     "name": "stdout",
     "output_type": "stream",
     "text": [
      "spatial\n",
      "attacking vica spatial\n",
      "torch.Size([1, 1, 28, 28])\n",
      "torch.Size([1])\n",
      "torch.Size([1, 1, 28, 28])\n",
      "torch.Size([1])\n",
      "torch.Size([1, 1, 28, 28])\n",
      "torch.Size([1])\n",
      "torch.Size([1, 1, 28, 28])\n",
      "torch.Size([1])\n",
      "gaussblur\n",
      "attacking vica gaussblur\n",
      "torch.Size([1, 1, 28, 28])\n",
      "torch.Size([1])\n",
      "torch.Size([1, 1, 28, 28])\n",
      "torch.Size([1])\n"
     ]
    },
    {
     "name": "stderr",
     "output_type": "stream",
     "text": [
      "\n",
      "\n",
      "2it [00:00,  6.62it/s]\u001b[A\u001b[A\n",
      "\n",
      "3it [00:00,  6.27it/s]\u001b[A\u001b[A"
     ]
    },
    {
     "name": "stdout",
     "output_type": "stream",
     "text": [
      "torch.Size([1, 1, 28, 28])\n",
      "torch.Size([1])\n",
      "torch.Size([1, 1, 28, 28])\n",
      "torch.Size([1])\n"
     ]
    },
    {
     "name": "stderr",
     "output_type": "stream",
     "text": [
      "3it [00:00,  4.74it/s]\n"
     ]
    }
   ],
   "source": [
    "MODEL_SAVE_PATH = './victim-model.pth'\n",
    "tried_attacks = ['spatial', 'gaussblur']\n",
    "found_adversaries = {}\n",
    "\n",
    "# instantiate model\n",
    "victim_model = CNNModel()\n",
    "victim_model.load_state_dict(torch.load(MODEL_SAVE_PATH))\n",
    "victim_model.eval()\n",
    "\n",
    "for atk in tried_attacks:\n",
    "    print(atk)\n",
    "    found_adversaries[atk] = attack_model(victim_model, max_adv_examples=4, attack_name=atk, attack_params=None)"
   ]
  },
  {
   "cell_type": "markdown",
   "metadata": {
    "colab_type": "text",
    "id": "xVH821TOymic"
   },
   "source": [
    "### 1.2.2: Visualizing the results (20 Points)\n",
    "As before, please plot the new adversarial examples. Compare all crafting techniques (FGSM, 2 methods from Foolbox).\n"
   ]
  },
  {
   "cell_type": "code",
   "execution_count": 43,
   "metadata": {
    "colab": {},
    "colab_type": "code",
    "id": "69nc8PMRymid"
   },
   "outputs": [
    {
     "data": {
      "image/png": "[encoded data removed]",
      "text/plain": [
       "<Figure size 1080x216 with 6 Axes>"
      ]
     },
     "metadata": {
      "needs_background": "light"
     },
     "output_type": "display_data"
    },
    {
     "data": {
      "image/png": "[encoded data removed]",
      "text/plain": [
       "<Figure size 1080x216 with 6 Axes>"
      ]
     },
     "metadata": {
      "needs_background": "light"
     },
     "output_type": "display_data"
    },
    {
     "data": {
      "image/png": "[encoded data removed]",
      "text/plain": [
       "<Figure size 1080x216 with 6 Axes>"
      ]
     },
     "metadata": {
      "needs_background": "light"
     },
     "output_type": "display_data"
    },
    {
     "data": {
      "image/png": "[encoded data removed]",
      "text/plain": [
       "<Figure size 1080x216 with 6 Axes>"
      ]
     },
     "metadata": {
      "needs_background": "light"
     },
     "output_type": "display_data"
    }
   ],
   "source": [
    "#print(found_adversaries.keys())\n",
    "\n",
    "num_adv=4\n",
    "\n",
    "for i in range(0,num_adv):\n",
    "    \n",
    "    fig, ax = plt.subplots(ncols=2*len(tried_attacks) + 2, nrows = 1,figsize=(15,3))\n",
    "    \n",
    "    ax[0].imshow(found_adversaries[tried_attacks[0]][i].true_image,cmap='gray')\n",
    "    ax[0].axis('off') # no need to show axes on images\n",
    "    ax[0].set_title(\"Actual Label: {0}\".format(found_adversaries[tried_attacks[0]][i].true_label))\n",
    "    \n",
    "    ax[1].barh(list(range(0,10)), found_adversaries[tried_attacks[0]][i].true_score, 0.3)\n",
    "    ax[1].set_yticks(list(range(0,10))) # needed to show all class labels on y axis\n",
    "    ax[1].set_xlim([0,1])\n",
    "    ax[1].set_title(\"Original \\nProbabilities\")\n",
    "    \n",
    "    idx = 2\n",
    "    \n",
    "    for atk in tried_attacks:    \n",
    "        \n",
    "        ax[idx].imshow(found_adversaries[atk][i].adv_image,cmap='gray')\n",
    "        ax[idx].axis('off')\n",
    "        ax[idx].set_title(\n",
    "            found_adversaries[atk][i].gen_method + \" adversary\\n\" + \n",
    "            \"Label: \" + str(found_adversaries[atk][i].adv_label))\n",
    "        \n",
    "        ax[idx+1].barh(list(range(0,10)), found_adversaries[atk][i].adv_score, 0.3)\n",
    "        ax[idx+1].set_yticks(list(range(0,10))) # needed to show all class labels on y axis\n",
    "        ax[idx+1].set_xlim([0,1]) # need to do this, so bars are comparable visually.\n",
    "        ax[idx+1].set_title(\"Adversarial \\n Probabilities\")\n",
    "        \n",
    "        idx = idx + 2\n",
    "        \n",
    "    plt.tight_layout()"
   ]
  },
  {
   "cell_type": "markdown",
   "metadata": {
    "colab_type": "text",
    "id": "m6HxYLl3O1wV"
   },
   "source": [
    "Which differences do you observe when comparing different attack methods? Why?   \n",
    "Please write a brief summary of your findings.   \n",
    "* Does the attack always succeed (the model make wrong prediction on the adversarial sample)?\n",
    "* How different is the adversarial sample from the original image?\n",
    "(L0,L2,Linf norm)  \n",
    "* How about the computation cost of each attack method?\n",
    "* Does the attack require white-box access to the model?"
   ]
  },
  {
   "cell_type": "markdown",
   "metadata": {
    "colab_type": "text",
    "id": "KJUmrv5Bymij"
   },
   "source": [
    "# 2. Defending an ML model\n",
    "\n",
    "So far, we have focused on attacking an ML model. In this section, we want you to defend your model. As before concerning the attack, you can chose an example from the lecture, or experiment with any idea you have.\n",
    "\n",
    "We do not require the defense to work perfectly - but what we want you to understand is why it works or why it does not work."
   ]
  },
  {
   "cell_type": "markdown",
   "metadata": {
    "colab_type": "text",
    "id": "0gHUFK6Mymik"
   },
   "source": [
    "### 2.1: Implementing a defense of your choice (25 Points)\n",
    "As stated before, feel free to implement a defense or mitigation of your choice. Evaluate the defense on adversarial examples. This entails at least the 1,000 examples crafted from FGSM.   \n",
    "Also, you are encouraged (optional) to defend against the two other attack methods, i.e. you are free to increase this special test set (for example by >30 examples (>10 from your FGSM attack, >10 from both the two other attacks of the library))."
   ]
  },
  {
   "cell_type": "markdown",
   "metadata": {},
   "source": [
    "### 2.1.1. Defense Solution: Distillation [1]\n",
    "\n",
    "[1] Distillation as a Defense to Adversarial Perturbations against Deep Neural Networks"
   ]
  },
  {
   "cell_type": "markdown",
   "metadata": {},
   "source": [
    "### 2.1.2. Trainer Function with Temperature"
   ]
  },
  {
   "cell_type": "code",
   "execution_count": 8,
   "metadata": {},
   "outputs": [],
   "source": [
    "# Reference model (whose probabilities are to be distilled in second network)\n",
    "def train_with_temperature(model, loss_fn, loader, optimizer, epochs, temperature, verbose=True, print_every=4000):\n",
    "    running_loss = 0.0\n",
    "    val_acc_history = []\n",
    "    loss_history = []\n",
    "\n",
    "    # the training loop\n",
    "    for epoch in range(epochs):\n",
    "\n",
    "        print(\"Epoch [{} / {}]\".format(epoch+1, epochs))\n",
    "        for i, data in tqdm(enumerate(loader)):\n",
    "            inputs, labels = data\n",
    "            optimizer.zero_grad()\n",
    "\n",
    "            outputs = model(inputs)\n",
    "            outputs = outputs / temperature # softening in distillation\n",
    "            \n",
    "            loss = loss_fn(outputs, labels)\n",
    "            loss.backward()\n",
    "            optimizer.step()\n",
    "\n",
    "            running_loss += loss.item()\n",
    "\n",
    "            if i % print_every == 0:\n",
    "                loss_per_1k = running_loss / 1000.0\n",
    "                loss_history.append(loss_per_1k)\n",
    "\n",
    "                val_acc, _ = test_model(model, is_test_set=False)\n",
    "                val_acc_history.append(val_acc)\n",
    "\n",
    "                if verbose:\n",
    "                    print(\"Loss: {0} \\t Validation Accuracy: {1}%\".format(str(loss_per_1k), str(val_acc*100)))\n",
    "\n",
    "                running_loss = 0.0\n",
    "\n",
    "    print(\"Finished training\")\n",
    "    \n",
    "    return val_acc_history, loss_history, model"
   ]
  },
  {
   "cell_type": "markdown",
   "metadata": {},
   "source": [
    "### 2.1.3. Distillation Function"
   ]
  },
  {
   "cell_type": "code",
   "execution_count": 9,
   "metadata": {},
   "outputs": [],
   "source": [
    "def distil(teacher, student, loader, optimizer, epochs, temperature, alpha=.5, verbose=True, print_every=4000):\n",
    "    running_loss = 0.0\n",
    "    val_acc_history = []\n",
    "    loss_history = []\n",
    "    loss_fn = nn.MSELoss()\n",
    "\n",
    "    for epoch in range(epochs):\n",
    "        print(\"Epoch [{} / {}]\".format(epoch+1, epochs))\n",
    "        for i, data in tqdm(enumerate(loader)):\n",
    "            inputs, labels = data\n",
    "            optimizer.zero_grad()\n",
    "            \n",
    "            teacher_outputs = teacher(inputs)\n",
    "            teacher_outputs = teacher_outputs / temperature\n",
    "            \n",
    "            student_outputs = student(inputs)\n",
    "            student_outputs = student_outputs / temperature\n",
    "            \n",
    "            # pdb.set_trace()\n",
    "            loss = loss_fn(student_outputs, teacher_outputs)\n",
    "            loss.backward()\n",
    "            optimizer.step()\n",
    "            \n",
    "            running_loss += loss.item()\n",
    "\n",
    "            if i % print_every == 0:\n",
    "                loss_per_1k = running_loss / 1000.0\n",
    "                loss_history.append(loss_per_1k)\n",
    "\n",
    "                val_acc, _ = test_model(student, is_test_set=False)\n",
    "                val_acc_history.append(val_acc)\n",
    "\n",
    "                if verbose:\n",
    "                    print(\"Loss: {0} \\t Validation Accuracy: {1}%\".format(str(loss_per_1k), str(val_acc*100)))\n",
    "\n",
    "                running_loss = 0.0\n",
    "                \n",
    "    print(\"Finished Distillation\")\n",
    "    return val_acc_history, loss_history, student"
   ]
  },
  {
   "cell_type": "markdown",
   "metadata": {},
   "source": [
    "### 2.1.4. Apply Defensive Distillation"
   ]
  },
  {
   "cell_type": "code",
   "execution_count": 10,
   "metadata": {
    "scrolled": false
   },
   "outputs": [
    {
     "name": "stderr",
     "output_type": "stream",
     "text": [
      "\r",
      "0it [00:00, ?it/s]"
     ]
    },
    {
     "name": "stdout",
     "output_type": "stream",
     "text": [
      "Training Defensive Distillation with t=10\n",
      "Training a teacher model...\n",
      "Epoch [1 / 2]\n"
     ]
    },
    {
     "name": "stderr",
     "output_type": "stream",
     "text": [
      "22it [00:02,  1.41s/it]"
     ]
    },
    {
     "name": "stdout",
     "output_type": "stream",
     "text": [
      "Loss: 0.0023017029762268065 \t Validation Accuracy: 8.566666666666666%\n"
     ]
    },
    {
     "name": "stderr",
     "output_type": "stream",
     "text": [
      "4021it [00:22, 31.44it/s] "
     ]
    },
    {
     "name": "stdout",
     "output_type": "stream",
     "text": [
      "Loss: 9.209805698871612 \t Validation Accuracy: 11.183333333333334%\n"
     ]
    },
    {
     "name": "stderr",
     "output_type": "stream",
     "text": [
      "8029it [00:43, 41.64it/s] "
     ]
    },
    {
     "name": "stdout",
     "output_type": "stream",
     "text": [
      "Loss: 9.207428674459457 \t Validation Accuracy: 11.183333333333334%\n"
     ]
    },
    {
     "name": "stderr",
     "output_type": "stream",
     "text": [
      "12023it [01:05, 38.90it/s] "
     ]
    },
    {
     "name": "stdout",
     "output_type": "stream",
     "text": [
      "Loss: 9.201364541292191 \t Validation Accuracy: 11.183333333333334%\n"
     ]
    },
    {
     "name": "stderr",
     "output_type": "stream",
     "text": [
      "13500it [01:12, 185.05it/s]\n",
      "0it [00:00, ?it/s]"
     ]
    },
    {
     "name": "stdout",
     "output_type": "stream",
     "text": [
      "Epoch [2 / 2]\n"
     ]
    },
    {
     "name": "stderr",
     "output_type": "stream",
     "text": [
      "18it [00:02,  1.45s/it]"
     ]
    },
    {
     "name": "stdout",
     "output_type": "stream",
     "text": [
      "Loss: 3.4432639174461364 \t Validation Accuracy: 18.91666666666667%\n"
     ]
    },
    {
     "name": "stderr",
     "output_type": "stream",
     "text": [
      "4024it [00:25, 40.91it/s] "
     ]
    },
    {
     "name": "stdout",
     "output_type": "stream",
     "text": [
      "Loss: 6.572565260808915 \t Validation Accuracy: 80.45%\n"
     ]
    },
    {
     "name": "stderr",
     "output_type": "stream",
     "text": [
      "8019it [00:46, 38.90it/s] "
     ]
    },
    {
     "name": "stdout",
     "output_type": "stream",
     "text": [
      "Loss: 1.5632982072993182 \t Validation Accuracy: 91.18333333333332%\n"
     ]
    },
    {
     "name": "stderr",
     "output_type": "stream",
     "text": [
      "12032it [01:11, 31.70it/s] "
     ]
    },
    {
     "name": "stdout",
     "output_type": "stream",
     "text": [
      "Loss: 0.8758144028639945 \t Validation Accuracy: 94.43333333333334%\n"
     ]
    },
    {
     "name": "stderr",
     "output_type": "stream",
     "text": [
      "13500it [01:19, 169.34it/s]\n",
      "0it [00:00, ?it/s]"
     ]
    },
    {
     "name": "stdout",
     "output_type": "stream",
     "text": [
      "Finished training\n",
      "Distilling knowledge into student model...\n",
      "Epoch [1 / 2]\n"
     ]
    },
    {
     "name": "stderr",
     "output_type": "stream",
     "text": [
      "12it [00:02,  1.45s/it]"
     ]
    },
    {
     "name": "stdout",
     "output_type": "stream",
     "text": [
      "Loss: 0.01839233207702637 \t Validation Accuracy: 14.133333333333331%\n"
     ]
    },
    {
     "name": "stderr",
     "output_type": "stream",
     "text": [
      "4017it [00:36, 25.53it/s] "
     ]
    },
    {
     "name": "stdout",
     "output_type": "stream",
     "text": [
      "Loss: 87.53541039180756 \t Validation Accuracy: 9.183333333333332%\n"
     ]
    },
    {
     "name": "stderr",
     "output_type": "stream",
     "text": [
      "8022it [01:09, 26.03it/s] "
     ]
    },
    {
     "name": "stdout",
     "output_type": "stream",
     "text": [
      "Loss: 78.44331553077697 \t Validation Accuracy: 9.183333333333332%\n"
     ]
    },
    {
     "name": "stderr",
     "output_type": "stream",
     "text": [
      "12018it [01:40, 25.77it/s] "
     ]
    },
    {
     "name": "stdout",
     "output_type": "stream",
     "text": [
      "Loss: 27.162129122555257 \t Validation Accuracy: 81.81666666666668%\n"
     ]
    },
    {
     "name": "stderr",
     "output_type": "stream",
     "text": [
      "13500it [01:53, 119.30it/s]\n",
      "0it [00:00, ?it/s]"
     ]
    },
    {
     "name": "stdout",
     "output_type": "stream",
     "text": [
      "Epoch [2 / 2]\n"
     ]
    },
    {
     "name": "stderr",
     "output_type": "stream",
     "text": [
      "13it [00:02,  1.52s/it]"
     ]
    },
    {
     "name": "stdout",
     "output_type": "stream",
     "text": [
      "Loss: 3.0901004528701304 \t Validation Accuracy: 85.36666666666667%\n"
     ]
    },
    {
     "name": "stderr",
     "output_type": "stream",
     "text": [
      "4013it [00:40, 21.70it/s] "
     ]
    },
    {
     "name": "stdout",
     "output_type": "stream",
     "text": [
      "Loss: 4.310588733315468 \t Validation Accuracy: 89.91666666666667%\n"
     ]
    },
    {
     "name": "stderr",
     "output_type": "stream",
     "text": [
      "8018it [01:14, 26.30it/s] "
     ]
    },
    {
     "name": "stdout",
     "output_type": "stream",
     "text": [
      "Loss: 2.1428673663660884 \t Validation Accuracy: 91.78333333333333%\n"
     ]
    },
    {
     "name": "stderr",
     "output_type": "stream",
     "text": [
      "12016it [01:51, 22.32it/s] "
     ]
    },
    {
     "name": "stdout",
     "output_type": "stream",
     "text": [
      "Loss: 1.3502766669392585 \t Validation Accuracy: 93.05%\n"
     ]
    },
    {
     "name": "stderr",
     "output_type": "stream",
     "text": [
      "13500it [02:02, 110.59it/s]\n",
      "0it [00:00, ?it/s]"
     ]
    },
    {
     "name": "stdout",
     "output_type": "stream",
     "text": [
      "Finished Distillation\n",
      "Training Defensive Distillation with t=20\n",
      "Training a teacher model...\n",
      "Epoch [1 / 5]\n"
     ]
    },
    {
     "name": "stderr",
     "output_type": "stream",
     "text": [
      "20it [00:02,  1.37s/it]"
     ]
    },
    {
     "name": "stdout",
     "output_type": "stream",
     "text": [
      "Loss: 0.0023019366264343264 \t Validation Accuracy: 10.850000000000005%\n"
     ]
    },
    {
     "name": "stderr",
     "output_type": "stream",
     "text": [
      "4036it [00:24, 33.63it/s] "
     ]
    },
    {
     "name": "stdout",
     "output_type": "stream",
     "text": [
      "Loss: 9.210057958126068 \t Validation Accuracy: 10.850000000000005%\n"
     ]
    },
    {
     "name": "stderr",
     "output_type": "stream",
     "text": [
      "8027it [00:49, 33.16it/s] "
     ]
    },
    {
     "name": "stdout",
     "output_type": "stream",
     "text": [
      "Loss: 9.209307656288146 \t Validation Accuracy: 10.850000000000005%\n"
     ]
    },
    {
     "name": "stderr",
     "output_type": "stream",
     "text": [
      "12019it [01:10, 32.73it/s] "
     ]
    },
    {
     "name": "stdout",
     "output_type": "stream",
     "text": [
      "Loss: 9.207983483552933 \t Validation Accuracy: 10.850000000000005%\n"
     ]
    },
    {
     "name": "stderr",
     "output_type": "stream",
     "text": [
      "13500it [01:19, 170.62it/s]\n",
      "0it [00:00, ?it/s]"
     ]
    },
    {
     "name": "stdout",
     "output_type": "stream",
     "text": [
      "Epoch [2 / 5]\n"
     ]
    },
    {
     "name": "stderr",
     "output_type": "stream",
     "text": [
      "20it [00:02,  1.51s/it]"
     ]
    },
    {
     "name": "stdout",
     "output_type": "stream",
     "text": [
      "Loss: 3.4523497910499574 \t Validation Accuracy: 11.033333333333328%\n"
     ]
    },
    {
     "name": "stderr",
     "output_type": "stream",
     "text": [
      "4038it [00:23, 39.42it/s] "
     ]
    },
    {
     "name": "stdout",
     "output_type": "stream",
     "text": [
      "Loss: 9.20176077222824 \t Validation Accuracy: 26.449999999999996%\n"
     ]
    },
    {
     "name": "stderr",
     "output_type": "stream",
     "text": [
      "8033it [00:45, 33.08it/s] "
     ]
    },
    {
     "name": "stdout",
     "output_type": "stream",
     "text": [
      "Loss: 9.121406735658645 \t Validation Accuracy: 34.416666666666664%\n"
     ]
    },
    {
     "name": "stderr",
     "output_type": "stream",
     "text": [
      "12021it [01:06, 32.08it/s] "
     ]
    },
    {
     "name": "stdout",
     "output_type": "stream",
     "text": [
      "Loss: 3.6032976748272776 \t Validation Accuracy: 86.83333333333334%\n"
     ]
    },
    {
     "name": "stderr",
     "output_type": "stream",
     "text": [
      "13500it [01:14, 180.64it/s]\n",
      "0it [00:00, ?it/s]"
     ]
    },
    {
     "name": "stdout",
     "output_type": "stream",
     "text": [
      "Epoch [3 / 5]\n"
     ]
    },
    {
     "name": "stderr",
     "output_type": "stream",
     "text": [
      "21it [00:02,  1.50s/it]"
     ]
    },
    {
     "name": "stdout",
     "output_type": "stream",
     "text": [
      "Loss: 0.6156945518276189 \t Validation Accuracy: 89.81666666666666%\n"
     ]
    },
    {
     "name": "stderr",
     "output_type": "stream",
     "text": [
      "4035it [00:24, 34.49it/s] "
     ]
    },
    {
     "name": "stdout",
     "output_type": "stream",
     "text": [
      "Loss: 1.1501528802434913 \t Validation Accuracy: 93.51666666666667%\n"
     ]
    },
    {
     "name": "stderr",
     "output_type": "stream",
     "text": [
      "8021it [00:47, 33.42it/s] "
     ]
    },
    {
     "name": "stdout",
     "output_type": "stream",
     "text": [
      "Loss: 0.8699899483260815 \t Validation Accuracy: 95.05%\n"
     ]
    },
    {
     "name": "stderr",
     "output_type": "stream",
     "text": [
      "12027it [01:10, 35.92it/s] "
     ]
    },
    {
     "name": "stdout",
     "output_type": "stream",
     "text": [
      "Loss: 0.6419246690150612 \t Validation Accuracy: 94.93333333333334%\n"
     ]
    },
    {
     "name": "stderr",
     "output_type": "stream",
     "text": [
      "13500it [01:18, 173.04it/s]\n",
      "0it [00:00, ?it/s]"
     ]
    },
    {
     "name": "stdout",
     "output_type": "stream",
     "text": [
      "Epoch [4 / 5]\n"
     ]
    },
    {
     "name": "stderr",
     "output_type": "stream",
     "text": [
      "20it [00:02,  1.43s/it]"
     ]
    },
    {
     "name": "stdout",
     "output_type": "stream",
     "text": [
      "Loss: 0.24292493512603688 \t Validation Accuracy: 95.5%\n"
     ]
    },
    {
     "name": "stderr",
     "output_type": "stream",
     "text": [
      "4021it [00:23, 33.70it/s] "
     ]
    },
    {
     "name": "stdout",
     "output_type": "stream",
     "text": [
      "Loss: 0.4895445216970256 \t Validation Accuracy: 96.48333333333333%\n"
     ]
    },
    {
     "name": "stderr",
     "output_type": "stream",
     "text": [
      "8033it [00:43, 44.72it/s] "
     ]
    },
    {
     "name": "stdout",
     "output_type": "stream",
     "text": [
      "Loss: 0.45522992531917406 \t Validation Accuracy: 96.75%\n"
     ]
    },
    {
     "name": "stderr",
     "output_type": "stream",
     "text": [
      "12034it [01:05, 39.57it/s] "
     ]
    },
    {
     "name": "stdout",
     "output_type": "stream",
     "text": [
      "Loss: 0.4260627157430572 \t Validation Accuracy: 96.86666666666667%\n"
     ]
    },
    {
     "name": "stderr",
     "output_type": "stream",
     "text": [
      "13500it [01:13, 183.92it/s]\n",
      "0it [00:00, ?it/s]"
     ]
    },
    {
     "name": "stdout",
     "output_type": "stream",
     "text": [
      "Epoch [5 / 5]\n"
     ]
    },
    {
     "name": "stderr",
     "output_type": "stream",
     "text": [
      "21it [00:02,  1.35s/it]"
     ]
    },
    {
     "name": "stdout",
     "output_type": "stream",
     "text": [
      "Loss: 0.17268102677107527 \t Validation Accuracy: 97.63333333333334%\n"
     ]
    },
    {
     "name": "stderr",
     "output_type": "stream",
     "text": [
      "4037it [00:23, 41.44it/s] "
     ]
    },
    {
     "name": "stdout",
     "output_type": "stream",
     "text": [
      "Loss: 0.3630942954584534 \t Validation Accuracy: 97.31666666666666%\n"
     ]
    },
    {
     "name": "stderr",
     "output_type": "stream",
     "text": [
      "8025it [00:44, 40.10it/s] "
     ]
    },
    {
     "name": "stdout",
     "output_type": "stream",
     "text": [
      "Loss: 0.3150126398508 \t Validation Accuracy: 97.53333333333333%\n"
     ]
    },
    {
     "name": "stderr",
     "output_type": "stream",
     "text": [
      "12029it [01:05, 46.52it/s] "
     ]
    },
    {
     "name": "stdout",
     "output_type": "stream",
     "text": [
      "Loss: 0.3210681715972842 \t Validation Accuracy: 97.0%\n"
     ]
    },
    {
     "name": "stderr",
     "output_type": "stream",
     "text": [
      "13500it [01:11, 188.74it/s]\n",
      "0it [00:00, ?it/s]"
     ]
    },
    {
     "name": "stdout",
     "output_type": "stream",
     "text": [
      "Finished training\n",
      "Distilling knowledge into student model...\n",
      "Epoch [1 / 5]\n"
     ]
    },
    {
     "name": "stderr",
     "output_type": "stream",
     "text": [
      "15it [00:02,  1.37s/it]"
     ]
    },
    {
     "name": "stdout",
     "output_type": "stream",
     "text": [
      "Loss: 0.025682842254638672 \t Validation Accuracy: 11.183333333333334%\n"
     ]
    },
    {
     "name": "stderr",
     "output_type": "stream",
     "text": [
      "4024it [00:34, 24.89it/s] "
     ]
    },
    {
     "name": "stdout",
     "output_type": "stream",
     "text": [
      "Loss: 139.63453889369964 \t Validation Accuracy: 9.183333333333332%\n"
     ]
    },
    {
     "name": "stderr",
     "output_type": "stream",
     "text": [
      "8014it [01:08, 21.33it/s] "
     ]
    },
    {
     "name": "stdout",
     "output_type": "stream",
     "text": [
      "Loss: 139.3445126476288 \t Validation Accuracy: 9.183333333333332%\n"
     ]
    },
    {
     "name": "stderr",
     "output_type": "stream",
     "text": [
      "12026it [01:42, 28.87it/s] "
     ]
    },
    {
     "name": "stdout",
     "output_type": "stream",
     "text": [
      "Loss: 136.4051230211258 \t Validation Accuracy: 9.183333333333332%\n"
     ]
    },
    {
     "name": "stderr",
     "output_type": "stream",
     "text": [
      "13500it [01:52, 119.50it/s]\n",
      "0it [00:00, ?it/s]"
     ]
    },
    {
     "name": "stdout",
     "output_type": "stream",
     "text": [
      "Epoch [2 / 5]\n"
     ]
    },
    {
     "name": "stderr",
     "output_type": "stream",
     "text": [
      "13it [00:02,  1.43s/it]"
     ]
    },
    {
     "name": "stdout",
     "output_type": "stream",
     "text": [
      "Loss: 46.94466736793518 \t Validation Accuracy: 9.183333333333332%\n"
     ]
    },
    {
     "name": "stderr",
     "output_type": "stream",
     "text": [
      "4015it [15:23, 17.21it/s] "
     ]
    },
    {
     "name": "stdout",
     "output_type": "stream",
     "text": [
      "Loss: 87.58371096777915 \t Validation Accuracy: 70.26666666666667%\n"
     ]
    },
    {
     "name": "stderr",
     "output_type": "stream",
     "text": [
      "8009it [16:01, 13.54it/s] "
     ]
    },
    {
     "name": "stdout",
     "output_type": "stream",
     "text": [
      "Loss: 21.875772518634797 \t Validation Accuracy: 91.68333333333334%\n"
     ]
    },
    {
     "name": "stderr",
     "output_type": "stream",
     "text": [
      "12018it [16:43, 21.58it/s] "
     ]
    },
    {
     "name": "stdout",
     "output_type": "stream",
     "text": [
      "Loss: 7.962906511217356 \t Validation Accuracy: 94.93333333333334%\n"
     ]
    },
    {
     "name": "stderr",
     "output_type": "stream",
     "text": [
      "13500it [16:55, 13.29it/s] \n",
      "0it [00:00, ?it/s]"
     ]
    },
    {
     "name": "stdout",
     "output_type": "stream",
     "text": [
      "Epoch [3 / 5]\n"
     ]
    },
    {
     "name": "stderr",
     "output_type": "stream",
     "text": [
      "9it [00:02,  1.63s/it]"
     ]
    },
    {
     "name": "stdout",
     "output_type": "stream",
     "text": [
      "Loss: 2.0147859118580818 \t Validation Accuracy: 95.35%\n"
     ]
    },
    {
     "name": "stderr",
     "output_type": "stream",
     "text": [
      "4018it [00:38, 26.60it/s] "
     ]
    },
    {
     "name": "stdout",
     "output_type": "stream",
     "text": [
      "Loss: 4.091977499499917 \t Validation Accuracy: 95.85000000000001%\n"
     ]
    },
    {
     "name": "stderr",
     "output_type": "stream",
     "text": [
      "8023it [01:14, 24.39it/s] "
     ]
    },
    {
     "name": "stdout",
     "output_type": "stream",
     "text": [
      "Loss: 3.1556510565429927 \t Validation Accuracy: 96.28333333333333%\n"
     ]
    },
    {
     "name": "stderr",
     "output_type": "stream",
     "text": [
      "12015it [01:52, 21.69it/s] "
     ]
    },
    {
     "name": "stdout",
     "output_type": "stream",
     "text": [
      "Loss: 2.632057081878185 \t Validation Accuracy: 96.91666666666666%\n"
     ]
    },
    {
     "name": "stderr",
     "output_type": "stream",
     "text": [
      "13500it [02:04, 108.34it/s]\n",
      "0it [00:00, ?it/s]"
     ]
    },
    {
     "name": "stdout",
     "output_type": "stream",
     "text": [
      "Epoch [4 / 5]\n"
     ]
    },
    {
     "name": "stderr",
     "output_type": "stream",
     "text": [
      "11it [00:02,  1.54s/it]"
     ]
    },
    {
     "name": "stdout",
     "output_type": "stream",
     "text": [
      "Loss: 0.9041841654777527 \t Validation Accuracy: 96.98333333333333%\n"
     ]
    },
    {
     "name": "stderr",
     "output_type": "stream",
     "text": [
      "4014it [00:38, 19.92it/s] "
     ]
    },
    {
     "name": "stdout",
     "output_type": "stream",
     "text": [
      "Loss: 2.195277206450701 \t Validation Accuracy: 97.2%\n"
     ]
    },
    {
     "name": "stderr",
     "output_type": "stream",
     "text": [
      "8015it [01:15, 27.08it/s] "
     ]
    },
    {
     "name": "stdout",
     "output_type": "stream",
     "text": [
      "Loss: 1.9820977981761099 \t Validation Accuracy: 97.05%\n"
     ]
    },
    {
     "name": "stderr",
     "output_type": "stream",
     "text": [
      "12015it [01:51, 24.47it/s] "
     ]
    },
    {
     "name": "stdout",
     "output_type": "stream",
     "text": [
      "Loss: 1.8094615180566906 \t Validation Accuracy: 97.11666666666666%\n"
     ]
    },
    {
     "name": "stderr",
     "output_type": "stream",
     "text": [
      "13500it [02:03, 108.92it/s]\n",
      "0it [00:00, ?it/s]"
     ]
    },
    {
     "name": "stdout",
     "output_type": "stream",
     "text": [
      "Epoch [5 / 5]\n"
     ]
    },
    {
     "name": "stderr",
     "output_type": "stream",
     "text": [
      "12it [00:02,  1.59s/it]"
     ]
    },
    {
     "name": "stdout",
     "output_type": "stream",
     "text": [
      "Loss: 0.6312755618616939 \t Validation Accuracy: 97.15%\n"
     ]
    },
    {
     "name": "stderr",
     "output_type": "stream",
     "text": [
      "4016it [00:38, 25.92it/s] "
     ]
    },
    {
     "name": "stdout",
     "output_type": "stream",
     "text": [
      "Loss: 1.6469293029531837 \t Validation Accuracy: 97.23333333333333%\n"
     ]
    },
    {
     "name": "stderr",
     "output_type": "stream",
     "text": [
      "8016it [01:15, 23.30it/s] "
     ]
    },
    {
     "name": "stdout",
     "output_type": "stream",
     "text": [
      "Loss: 1.5213475994989276 \t Validation Accuracy: 97.26666666666667%\n"
     ]
    },
    {
     "name": "stderr",
     "output_type": "stream",
     "text": [
      "12016it [01:50, 20.91it/s] "
     ]
    },
    {
     "name": "stdout",
     "output_type": "stream",
     "text": [
      "Loss: 1.4430557947531342 \t Validation Accuracy: 97.21666666666667%\n"
     ]
    },
    {
     "name": "stderr",
     "output_type": "stream",
     "text": [
      "13500it [02:03, 109.14it/s]"
     ]
    },
    {
     "name": "stdout",
     "output_type": "stream",
     "text": [
      "Finished Distillation\n"
     ]
    },
    {
     "name": "stderr",
     "output_type": "stream",
     "text": [
      "\n"
     ]
    }
   ],
   "source": [
    "Ts = [1, 2, 5, 10, 20] # temperatures\n",
    "Es = [1, 1, 1, 2, 5] # epochs for respective temperatures\n",
    "for t, e in zip(Ts, Es): # training distillers on different temperatures\n",
    "    print(\"Training Defensive Distillation with t={}\".format(t))\n",
    "    teacher_model = CNNModel().to(device)\n",
    "    student_model = CNNModel().to(device)\n",
    "\n",
    "    loss_fn_teacher = nn.CrossEntropyLoss().to(device)\n",
    "    loss_fn_student = nn.Sequential()\n",
    "\n",
    "    optimizer_teacher = optim.SGD(teacher_model.parameters(), lr=0.001, momentum=0.9)\n",
    "    optimizer_student = optim.SGD(student_model.parameters(), lr=0.001, momentum=0.0)\n",
    "    \n",
    "    print(\"Training a teacher model...\")\n",
    "    _, _, teacher_model = train_with_temperature(\n",
    "        teacher_model, loss_fn_teacher, mnist_train_data_loader, optimizer_teacher,\n",
    "        epochs=e, temperature=t, print_every=4000\n",
    "    )\n",
    "\n",
    "    print(\"Distilling knowledge into student model...\")\n",
    "    _, _, student_model = distil(teacher_model, student_model, mnist_train_data_loader, optimizer_student,\n",
    "           epochs=e, temperature=t, print_every=4000)\n",
    "\n",
    "    # save the distilled (defensive) model\n",
    "    MODEL_SAVE_PATH = 'defensive_model_t{}.pth'.format(t)\n",
    "    torch.save(student_model.cpu().state_dict(), MODEL_SAVE_PATH)"
   ]
  },
  {
   "cell_type": "markdown",
   "metadata": {},
   "source": [
    "### 2.1.6. Helper to compute Adversarial Success Rate"
   ]
  },
  {
   "cell_type": "code",
   "execution_count": 7,
   "metadata": {},
   "outputs": [],
   "source": [
    "def test_model_adversarial(model, loader, criterion, device, epsilon=0.2):\n",
    "    \"\"\"Computes adversarial (based on FGSM attack) success rate on MNIST test set\"\"\"\n",
    "    \n",
    "    success, total = 0, 0\n",
    "    for (Xtest, Ytest) in tqdm(loader):\n",
    "        Xtest = Xtest.to(device)\n",
    "        Ytest = Ytest.to(device)\n",
    "        Yperturbed, preds_before, preds_after = FGSM(model, Xtest, Ytest,\n",
    "                                                     criterion, epsilon=epsilon)\n",
    "        if (preds_before == Ytest):\n",
    "            total += 1\n",
    "            if (preds_before != preds_after):\n",
    "                success += 1\n",
    "    \n",
    "    return success / total"
   ]
  },
  {
   "cell_type": "markdown",
   "metadata": {},
   "source": [
    "### 2.1.5. Evaluate Defense Mechanism (Pt. 1)"
   ]
  },
  {
   "cell_type": "code",
   "execution_count": 13,
   "metadata": {},
   "outputs": [
    {
     "name": "stderr",
     "output_type": "stream",
     "text": [
      "100%|██████████| 10000/10000 [00:49<00:00, 201.40it/s]\n"
     ]
    },
    {
     "name": "stdout",
     "output_type": "stream",
     "text": [
      "T = 0: Accuracy = 0.9794; Adversarial Success = 0.9087196242597508\n"
     ]
    },
    {
     "name": "stderr",
     "output_type": "stream",
     "text": [
      "100%|██████████| 10000/10000 [00:53<00:00, 185.63it/s]\n"
     ]
    },
    {
     "name": "stdout",
     "output_type": "stream",
     "text": [
      "T = 1: Accuracy = 0.969; Adversarial Success = 0.9611971104231166\n"
     ]
    },
    {
     "name": "stderr",
     "output_type": "stream",
     "text": [
      "100%|██████████| 10000/10000 [00:49<00:00, 200.84it/s]\n"
     ]
    },
    {
     "name": "stdout",
     "output_type": "stream",
     "text": [
      "T = 2: Accuracy = 0.9489; Adversarial Success = 0.824006744651702\n"
     ]
    },
    {
     "name": "stderr",
     "output_type": "stream",
     "text": [
      "100%|██████████| 10000/10000 [00:54<00:00, 182.11it/s]\n"
     ]
    },
    {
     "name": "stdout",
     "output_type": "stream",
     "text": [
      "T = 5: Accuracy = 0.9428; Adversarial Success = 0.6990878235044549\n"
     ]
    },
    {
     "name": "stderr",
     "output_type": "stream",
     "text": [
      "100%|██████████| 10000/10000 [00:53<00:00, 186.39it/s]\n"
     ]
    },
    {
     "name": "stdout",
     "output_type": "stream",
     "text": [
      "T = 10: Accuracy = 0.9283; Adversarial Success = 0.8018959388128838\n"
     ]
    },
    {
     "name": "stderr",
     "output_type": "stream",
     "text": [
      "100%|██████████| 10000/10000 [00:51<00:00, 196.03it/s]"
     ]
    },
    {
     "name": "stdout",
     "output_type": "stream",
     "text": [
      "T = 20: Accuracy = 0.9747; Adversarial Success = 0.17820867959372114\n"
     ]
    },
    {
     "name": "stderr",
     "output_type": "stream",
     "text": [
      "\n"
     ]
    }
   ],
   "source": [
    "# evaluating defensive distillation with different temperatures we trained on previous step.\n",
    "epsilon = 0.3 # epsilon for FGSM attack\n",
    "mnist_accs = []\n",
    "adv_successes = []\n",
    "\n",
    "for t in [0, 1, 2, 5, 10, 20]:\n",
    "    \n",
    "    # load defensive model with temperature=t\n",
    "    MODEL_LOAD_PATH = './defensive_model_t{}.pth'.format(t) if t != 0 else './victim-model.pth'\n",
    "    defensive_model = CNNModel().to(device)\n",
    "    defensive_model.load_state_dict(torch.load(MODEL_LOAD_PATH))\n",
    "    defensive_model.eval()\n",
    "    criterion = torch.nn.CrossEntropyLoss().to(device)\n",
    "    \n",
    "    acc_original, _ = test_model(defensive_model, is_test_set=True, verbose=False)\n",
    "    adv_success = test_model_adversarial(defensive_model, mnist_test_data_loader,\n",
    "                                                      criterion, device, epsilon=epsilon)\n",
    "    print(\"T = {}: Accuracy = {}; Adversarial Success = {}\".format(t, acc_original, adv_success))\n",
    "    mnist_accs.append(acc_original)\n",
    "    adv_successes.append(adv_success)\n",
    "# print('Accuracy on adversarial samples (FGSM) %.2f'%acc_FGSM)\n",
    "# print('Accuracy on adversarial samples (FGSM) after defense %.2f'%acc_FGSM_defend)"
   ]
  },
  {
   "cell_type": "code",
   "execution_count": 40,
   "metadata": {
    "colab": {},
    "colab_type": "code",
    "id": "DD0UalSeymim"
   },
   "outputs": [
    {
     "data": {
      "image/png": "[encoded data removed]",
      "text/plain": [
       "<Figure size 864x432 with 2 Axes>"
      ]
     },
     "metadata": {
      "needs_background": "light"
     },
     "output_type": "display_data"
    }
   ],
   "source": [
    "fig, ax = plt.subplots(ncols=2, figsize=(12,6))\n",
    "ax[0].plot(range(6), mnist_accs, marker=\"s\")\n",
    "ax[0].set_ylim([0, 1])\n",
    "ax[0].set_xlabel('Temperature for Distillation')\n",
    "ax[0].set_ylabel(\"Accuracy\")\n",
    "ax[0].set_xticks(range(6))\n",
    "ax[0].set_xticklabels([0, 1, 2, 5, 10, 20])\n",
    "ax[0].set_title(\"Effect of Temperature on Accuracy\")\n",
    "\n",
    "ax[1].plot(range(6), adv_successes, marker=\"s\")\n",
    "ax[1].set_ylim([0, 1])\n",
    "ax[1].set_xlabel('Temperature for Distillation')\n",
    "ax[1].set_ylabel(\"Adversarial Success\")\n",
    "ax[1].set_xticks(range(6))\n",
    "ax[1].set_xticklabels([0, 1, 2, 5, 10, 20])\n",
    "ax[1].set_title(\"Effect of Temperature on Adversarial Success\")\n",
    "\n",
    "pass"
   ]
  },
  {
   "cell_type": "markdown",
   "metadata": {},
   "source": [
    "The above plots show that as temperature T is increased,\n",
    "1. The accuracy is insignificantly reduced, however,\n",
    "2. the trained model is significantly more robust against adversarial attacks (i.e. low adversarial success)."
   ]
  },
  {
   "cell_type": "markdown",
   "metadata": {},
   "source": [
    "### Evaluate Defense Mechanism (Pt. 2)"
   ]
  },
  {
   "cell_type": "code",
   "execution_count": 10,
   "metadata": {},
   "outputs": [
    {
     "name": "stderr",
     "output_type": "stream",
     "text": [
      "  0%|          | 16/10000 [00:00<01:02, 159.47it/s]"
     ]
    },
    {
     "name": "stdout",
     "output_type": "stream",
     "text": [
      "Testing Epsilon = 0.01\n"
     ]
    },
    {
     "name": "stderr",
     "output_type": "stream",
     "text": [
      "100%|██████████| 10000/10000 [00:50<00:00, 198.16it/s]\n",
      "100%|██████████| 10000/10000 [00:45<00:00, 220.37it/s]\n",
      "  0%|          | 20/10000 [00:00<00:52, 191.56it/s]"
     ]
    },
    {
     "name": "stdout",
     "output_type": "stream",
     "text": [
      "\tNaive Model Adversarial Success: 0.009597712885440065\n",
      "\tDefensive Model Adversarial Success: 0.008207653637016518\n",
      "Testing Epsilon = 0.05\n"
     ]
    },
    {
     "name": "stderr",
     "output_type": "stream",
     "text": [
      "100%|██████████| 10000/10000 [00:52<00:00, 188.74it/s]\n",
      "100%|██████████| 10000/10000 [00:53<00:00, 187.94it/s]\n",
      "  0%|          | 15/10000 [00:00<01:08, 146.02it/s]"
     ]
    },
    {
     "name": "stdout",
     "output_type": "stream",
     "text": [
      "\tNaive Model Adversarial Success: 0.061670410455380846\n",
      "\tDefensive Model Adversarial Success: 0.04493690366266544\n",
      "Testing Epsilon = 0.1\n"
     ]
    },
    {
     "name": "stderr",
     "output_type": "stream",
     "text": [
      "100%|██████████| 10000/10000 [00:46<00:00, 212.93it/s]\n",
      "100%|██████████| 10000/10000 [00:53<00:00, 187.95it/s]\n",
      "  0%|          | 19/10000 [00:00<00:53, 186.77it/s]"
     ]
    },
    {
     "name": "stdout",
     "output_type": "stream",
     "text": [
      "\tNaive Model Adversarial Success: 0.18991219113743107\n",
      "\tDefensive Model Adversarial Success: 0.12301220888478506\n",
      "Testing Epsilon = 0.15\n"
     ]
    },
    {
     "name": "stderr",
     "output_type": "stream",
     "text": [
      "100%|██████████| 10000/10000 [00:51<00:00, 192.88it/s]\n",
      "100%|██████████| 10000/10000 [00:43<00:00, 231.90it/s]\n",
      "  0%|          | 20/10000 [00:00<00:51, 194.64it/s]"
     ]
    },
    {
     "name": "stdout",
     "output_type": "stream",
     "text": [
      "\tNaive Model Adversarial Success: 0.40034715131713294\n",
      "\tDefensive Model Adversarial Success: 0.15963886323997128\n",
      "Testing Epsilon = 0.2\n"
     ]
    },
    {
     "name": "stderr",
     "output_type": "stream",
     "text": [
      "100%|██████████| 10000/10000 [00:57<00:00, 173.67it/s]\n",
      "100%|██████████| 10000/10000 [00:48<00:00, 204.23it/s]\n",
      "  0%|          | 22/10000 [00:00<00:46, 215.02it/s]"
     ]
    },
    {
     "name": "stdout",
     "output_type": "stream",
     "text": [
      "\tNaive Model Adversarial Success: 0.6161935879109659\n",
      "\tDefensive Model Adversarial Success: 0.1712321740022571\n",
      "Testing Epsilon = 0.25\n"
     ]
    },
    {
     "name": "stderr",
     "output_type": "stream",
     "text": [
      "100%|██████████| 10000/10000 [00:53<00:00, 188.53it/s]\n",
      "100%|██████████| 10000/10000 [00:51<00:00, 192.37it/s]\n",
      "  0%|          | 20/10000 [00:00<00:51, 195.34it/s]"
     ]
    },
    {
     "name": "stdout",
     "output_type": "stream",
     "text": [
      "\tNaive Model Adversarial Success: 0.8026342658770675\n",
      "\tDefensive Model Adversarial Success: 0.1759515748435416\n",
      "Testing Epsilon = 0.3\n"
     ]
    },
    {
     "name": "stderr",
     "output_type": "stream",
     "text": [
      "100%|██████████| 10000/10000 [00:51<00:00, 194.94it/s]\n",
      "100%|██████████| 10000/10000 [00:54<00:00, 184.61it/s]"
     ]
    },
    {
     "name": "stdout",
     "output_type": "stream",
     "text": [
      "\tNaive Model Adversarial Success: 0.9087196242597508\n",
      "\tDefensive Model Adversarial Success: 0.17820867959372114\n"
     ]
    },
    {
     "name": "stderr",
     "output_type": "stream",
     "text": [
      "\n"
     ]
    }
   ],
   "source": [
    "epsilons = [.01, .05, .1, .15, .2, .25, .3]\n",
    "\n",
    "naive_model = CNNModel().to(device)\n",
    "naive_model.load_state_dict(torch.load('./victim-model.pth'))\n",
    "naive_model.eval()\n",
    "\n",
    "defensive_model = CNNModel().to(device)\n",
    "defensive_model.load_state_dict(torch.load('./defensive_model_t20.pth')) # our best performing model\n",
    "defensive_model.eval()\n",
    "\n",
    "criterion = torch.nn.CrossEntropyLoss().to(device)\n",
    "\n",
    "naive_rate = []\n",
    "defensive_rate = []\n",
    "for e in epsilons:\n",
    "    print(\"Testing Epsilon = {}\".format(e))\n",
    "    a = test_model_adversarial(naive_model, mnist_test_data_loader, criterion, device, epsilon=e)\n",
    "    b = test_model_adversarial(defensive_model, mnist_test_data_loader, criterion, device, epsilon=e)\n",
    "    \n",
    "    print(\"\\tNaive Model Adversarial Success: {}\".format(a))\n",
    "    print(\"\\tDefensive Model Adversarial Success: {}\".format(b))\n",
    "    \n",
    "    naive_rate.append(a)\n",
    "    defensive_rate.append(b)"
   ]
  },
  {
   "cell_type": "code",
   "execution_count": 16,
   "metadata": {},
   "outputs": [
    {
     "data": {
      "text/plain": [
       "<matplotlib.legend.Legend at 0x7fef7a4ec690>"
      ]
     },
     "execution_count": 16,
     "metadata": {},
     "output_type": "execute_result"
    },
    {
     "data": {
      "image/png": "[encoded data removed]",
      "text/plain": [
       "<Figure size 864x432 with 1 Axes>"
      ]
     },
     "metadata": {
      "needs_background": "light"
     },
     "output_type": "display_data"
    }
   ],
   "source": [
    "fig, ax = plt.subplots(figsize=(12,6))\n",
    "ax.plot(range(len(epsilons)), naive_rate, label='Naive Model', marker='s')\n",
    "ax.plot(range(len(epsilons)), defensive_rate, label='Defensive Model (t=20)', marker='s')\n",
    "ax.set_title(\"Comparison of Adversarial Success for FGSM Epsilons\")\n",
    "ax.set_ylabel(\"Adversarial Success\")\n",
    "ax.set_xlabel(\"Epsilon for FGSM Attack\")\n",
    "ax.set_xticks(range(len(epsilons)))\n",
    "ax.set_xticklabels(epsilons)\n",
    "ax.legend()"
   ]
  },
  {
   "cell_type": "markdown",
   "metadata": {},
   "source": [
    "The above plot shows the effect of epsilon of FGSM attack (i.e. roughly put: the power/flexibility given to adversary) on adversarial success of naive and defensive model.\n",
    "\n",
    "1. **Naive Model:** It is not able to detect adversarial perturbations to image, especially as epsilon increases.\n",
    "2. **Defensive Model:** On the other hand, defensive model is still relatively very robust against adversarial examples, even when adversarial perturbations are high (i.e. when epsilon is high such as 0.3)."
   ]
  },
  {
   "cell_type": "markdown",
   "metadata": {
    "colab_type": "text",
    "id": "sIMRqecuymir"
   },
   "source": [
    "### 2.2: Conclusions (15 Points)\n",
    "Please interpret the results of your defense here. \n",
    "\n",
    "* **Our Method (and why does it work):** We used Distillation technique as presented in [1] to make our classifier more robust against FGSM. The idea of the method is to use softened probabilities instead of hard labels. This makes the classifier's loss landscape relatively \"flat.\" Essentially, the effect is that the gradient information atteneuates due to which gradient based attacks (including FGSM) do not work well.\n",
    "\n",
    "* **On Robustness of Distillation Technique:** The defensive distillation model, as compared to typical classifier, is relatively much more robust against adversarial attacks, especially in large norm balls. As shown in the previous graph, as epsilon increases, even though typical classifier performs poorly against FGSM attack (i.e. high adversarial success of ~ 90%), the defensive classifer still is relatively much more robust against the attacks (i.e. low adversarial success of ~17%).\n",
    "\n",
    "* **A Comment on Hyper-parameters** Following are the things we noticed regarding the hyper-parameters.\n",
    "1. Higher temperature -> More training: Higher temperature essentially means more smoothening of labels. And we noticed in our experiments that more temperature requires more epochs to converge.\n",
    "2. Higher temperature =/= more/less accuracy: Interestingly, higher temperature doesn't correlate with the final test accuracy of the MNIST dataset. This is in agreement in the results presented in the paper of the method we used.\n",
    "\n",
    "Feel free to state any interesting finding you encountered during this project."
   ]
  },
  {
   "cell_type": "code",
   "execution_count": null,
   "metadata": {},
   "outputs": [],
   "source": []
  }
 ],
 "metadata": {
  "colab": {
   "collapsed_sections": [],
   "name": "Project_3_Template.ipynb",
   "provenance": []
  },
  "kernelspec": {
   "display_name": "Python 3",
   "language": "python",
   "name": "python3"
  },
  "language_info": {
   "codemirror_mode": {
    "name": "ipython",
    "version": 3
   },
   "file_extension": ".py",
   "mimetype": "text/x-python",
   "name": "python",
   "nbconvert_exporter": "python",
   "pygments_lexer": "ipython3",
   "version": "3.7.4"
  }
 },
 "nbformat": 4,
 "nbformat_minor": 1
}
